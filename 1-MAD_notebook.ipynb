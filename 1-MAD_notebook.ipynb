{
 "cells": [
  {
   "cell_type": "markdown",
   "metadata": {},
   "source": [
    "# Misalignment detection (MAD) using supervised regression"
   ]
  },
  {
   "cell_type": "code",
   "execution_count": 1,
   "metadata": {},
   "outputs": [
    {
     "data": {
      "text/html": [
       "<style>.container { width:99% !important; }</style>"
      ],
      "text/plain": [
       "<IPython.core.display.HTML object>"
      ]
     },
     "metadata": {},
     "output_type": "display_data"
    }
   ],
   "source": [
    "import numpy as np\n",
    "import matplotlib.pyplot as plt\n",
    "import pandas as pd\n",
    "import numpy as np\n",
    "from scipy.stats import pearsonr, lognorm, randint\n",
    "from scipy.optimize import minimize\n",
    "import seaborn as sns\n",
    "from matplotlib import cm\n",
    "from random import randint\n",
    "import csv\n",
    "import torch  #for pytorch\n",
    "\n",
    "\n",
    "from sklearn.svm import SVC\n",
    "from sklearn.svm import SVR\n",
    "from sklearn.linear_model import ElasticNetCV, ElasticNet\n",
    "from sklearn.ensemble import GradientBoostingRegressor\n",
    "from sklearn.model_selection import GridSearchCV, RandomizedSearchCV, train_test_split\n",
    "from sklearn.feature_selection import mutual_info_regression, f_regression\n",
    "from sklearn.metrics import precision_score, recall_score, confusion_matrix, mean_absolute_error, mean_squared_error, r2_score, make_scorer, roc_auc_score \n",
    "from sklearn.pipeline import Pipeline\n",
    "from sklearn.preprocessing import StandardScaler\n",
    "from sklearn.ensemble import RandomForestRegressor\n",
    "from sklearn.metrics.pairwise import linear_kernel\n",
    "\n",
    "import time\n",
    "import os\n",
    "import pickle\n",
    "import math\n",
    "import requests\n",
    "import logging\n",
    "from time import sleep\n",
    "from functools import partial\n",
    "import Levenshtein\n",
    "import re\n",
    "\n",
    "%load_ext autoreload\n",
    "%autoreload 2\n",
    "\n",
    "from number_match import number_match_pair\n",
    "# from MAD_scorer import predict_from_sscttc\n",
    "\n",
    "#Import InferSent as a module\n",
    "import sys\n",
    "sys.path.append( '/notebook/arne/MAD/InferSent' )\n",
    "\n",
    "# make the Jupyter notebook use the full screen width \n",
    "from IPython.core.display import display, HTML\n",
    "\n",
    "\n",
    "display(HTML(\"<style>.container { width:99% !important; }</style>\"))\n",
    "# set number of cols to display\n",
    "pd.set_option('display.max_columns', 100)\n",
    "pd.set_option('display.max_rows', 2000)\n",
    "pd.set_option('max_colwidth',300)"
   ]
  },
  {
   "cell_type": "markdown",
   "metadata": {},
   "source": [
    "#### Convenience functions"
   ]
  },
  {
   "cell_type": "code",
   "execution_count": 2,
   "metadata": {},
   "outputs": [],
   "source": [
    "def get_nans(df): return df[df.isnull().any(axis=1)]  #check if one of the rows has a column with a NaN value. \n",
    "def info(df): return '%sr x %sc ,  %s nans' % (df.shape[0], df.shape[1] , get_nans(df).shape[0] )  #a function to print number of rows, number of cols and the NaN's. "
   ]
  },
  {
   "cell_type": "markdown",
   "metadata": {},
   "source": [
    "#### Load the labeled dataset"
   ]
  },
  {
   "cell_type": "code",
   "execution_count": 3,
   "metadata": {},
   "outputs": [
    {
     "name": "stdout",
     "output_type": "stream",
     "text": [
      "3406r x 7c ,  0 nans\n"
     ]
    }
   ],
   "source": [
    "data_path='/notebook/arne/MAD/DATA/supervised_dataset/labeled.tsv'\n",
    "columns=[ 'Txt_source_0ri', 'Txt_target_0ri', 'Txt_source_2_cross' , 'Txt_target_2_cross', 'Txt_source_2_en', 'Txt_target_2_en', 'Lbl_misalign_gold'   ]\n",
    "data=pd.read_csv(  data_path  , sep='\\t', index_col=False, header=None , names=columns , quoting=csv.QUOTE_NONE)  \n",
    "print( info(data)  )"
   ]
  },
  {
   "cell_type": "markdown",
   "metadata": {},
   "source": [
    "#### Load InferSent model"
   ]
  },
  {
   "cell_type": "code",
   "execution_count": 5,
   "metadata": {},
   "outputs": [
    {
     "name": "stdout",
     "output_type": "stream",
     "text": [
      "Vocab size : 1000000\n"
     ]
    }
   ],
   "source": [
    "#note: you need to use pytorch 0.4 to work with InferSent.\n",
    "from models import InferSent\n",
    "model_version = 2\n",
    "MODEL_PATH = \"/notebook/arne/MAD/InferSent/encoder/infersent%s.pkl\" % model_version  #AD: load in the InferSent model\n",
    "params_model = {'bsize': 64, 'word_emb_dim': 300, 'enc_lstm_dim': 2048,\n",
    "                'pool_type': 'max', 'dpout_model': 0.0, 'version': model_version}\n",
    "model_infersent = InferSent(params_model)\n",
    "model_infersent.load_state_dict(torch.load(MODEL_PATH))\n",
    "\n",
    "W2V_PATH='/notebook/arne/MAD/InferSent/dataset/crawl-300d-2M.vec'\n",
    "model_infersent.set_w2v_path(W2V_PATH)\n",
    "\n",
    "# Load embeddings of K most frequent words\n",
    "model_infersent.build_vocab_k_words(K=1000000)"
   ]
  },
  {
   "cell_type": "markdown",
   "metadata": {},
   "source": [
    "#### Define functions to calculate features"
   ]
  },
  {
   "cell_type": "code",
   "execution_count": 6,
   "metadata": {},
   "outputs": [
    {
     "name": "stdout",
     "output_type": "stream",
     "text": [
      "senlength [48, 63]\n",
      "levenshtein 0.46846846846846846\n",
      "number-match 0.5\n",
      "semantic similarity InferSent [0.7382277]\n"
     ]
    }
   ],
   "source": [
    "def senlength(pair_of_sentences): return [len(pair_of_sentences[0]), len(pair_of_sentences[1])]\n",
    "\n",
    "def levenshtein(pair_of_sentences): \n",
    "    l = ratio(pair_of_sentences[0].lower(), pair_of_sentences[1].lower())\n",
    "    assert l >= 0 and l <=1\n",
    "    return l\n",
    "\n",
    "def number_match(pair_of_sentences): return number_match_pair(pair_of_sentences)\n",
    "\n",
    "def calc_semantic_sim_infersent( src_2_en, tgt_2_en ):\n",
    "    'Input is a list of src sentences translated to english, and a list of tgt sentences translated to english. The sentence embedding of these sentences is calculated in batches on the cpu'\n",
    "    \n",
    "    embedding_src_2_en=model_infersent.encode(   src_2_en  , bsize=50, tokenize=True, verbose=False)\n",
    "    embedding_tgt_2_en=model_infersent.encode(   tgt_2_en  , bsize=50, tokenize=True, verbose=False)\n",
    "\n",
    "    semantic_similarity=np.diag( linear_kernel( embedding_src_2_en, embedding_tgt_2_en )) / (np.linalg.norm(  embedding_src_2_en, axis=1 ) * np.linalg.norm( embedding_tgt_2_en, axis=1    )  )\n",
    "    \n",
    "    return semantic_similarity\n",
    "\n",
    "#an example\n",
    "\n",
    "s1='you ensure the worker an adequate basic training' \n",
    "s2='you provide in an appropriate basic education with the employee'\n",
    "\n",
    "print( 'senlength', senlength((s1,s2) ))\n",
    "print( 'levenshtein', levenshtein( ( s1,s2 )) )\n",
    "print( 'number-match', number_match( (s1, s2) ))\n",
    "print( 'semantic similarity InferSent', calc_semantic_sim_infersent(  [ s1 ] , [ s2  ] ) ) \n"
   ]
  },
  {
   "cell_type": "markdown",
   "metadata": {},
   "source": [
    "#### Define gold classification threshold"
   ]
  },
  {
   "cell_type": "code",
   "execution_count": 8,
   "metadata": {},
   "outputs": [],
   "source": [
    "gold_classification_threshold = 2\n",
    "\n",
    "def misalign( label_row ):\n",
    "    if label_row<=gold_classification_threshold:\n",
    "        return 0\n",
    "    else:\n",
    "        return 1\n",
    "\n",
    "data['Class_misalign_gold'] = data['Lbl_misalign_gold'].apply( misalign) "
   ]
  },
  {
   "cell_type": "code",
   "execution_count": 9,
   "metadata": {},
   "outputs": [
    {
     "data": {
      "text/plain": [
       "Counter({4.0: 310,\n",
       "         3.0: 133,\n",
       "         2.0: 92,\n",
       "         1.0: 205,\n",
       "         0.0: 2573,\n",
       "         3.5: 12,\n",
       "         2.5: 7,\n",
       "         1.5: 18,\n",
       "         0.5: 56})"
      ]
     },
     "execution_count": 9,
     "metadata": {},
     "output_type": "execute_result"
    }
   ],
   "source": [
    "from collections import Counter\n",
    "Counter ( data.Lbl_misalign_gold.values )"
   ]
  },
  {
   "cell_type": "code",
   "execution_count": 10,
   "metadata": {},
   "outputs": [
    {
     "name": "stdout",
     "output_type": "stream",
     "text": [
      "Counter({0: 2944, 1: 462})\n",
      "percentage of misaligned sentences 0.13564298297122723\n"
     ]
    }
   ],
   "source": [
    "print(Counter ( data.Class_misalign_gold.values )  )\n",
    "print( 'percentage of misaligned sentences', Counter( data.Class_misalign_gold.values )[1]/( Counter( data.Class_misalign_gold.values )[0] + Counter( data.Class_misalign_gold.values)[1] ))"
   ]
  },
  {
   "cell_type": "markdown",
   "metadata": {},
   "source": [
    "# Supervised Regression:"
   ]
  },
  {
   "cell_type": "markdown",
   "metadata": {},
   "source": [
    "The True Positive Rate (Recall) and True Negative Rate (Specificity) are given by\n",
    "\n",
    "$$True\\: Positive\\: Rate \\; = \\; \\frac{correctly\\:  predicted\\:  misalignments}{all \\; misalignments}$$\n",
    "\n",
    "$$True\\: Negative\\: Rate \\; = \\; \\frac{correctly\\:  predicted\\:  alignments}{ all \\; alignments }$$\n",
    "\n",
    "We do not value these figures equally. False negatives should be minimized quite aggressively, so define a utility function that calculates a mean biased towards the true positive score. \n",
    "\n",
    "Note that false negative rate (FNR) is given by:\n",
    "\n",
    "$$False \\: Negative\\: Rate \\; = \\; 1 - True \\: Positive\\: Rate$$\n",
    "\n",
    "So minimizing FNR is the same as maximizing TPR. Therefrore we define a utility function given by:\n",
    "\n",
    "utility=TNR^(1-p)*TPR^(p), with p=0.33. So we blow up the TPR: a mean biased towards TPR (i.e. FNR) \n"
   ]
  },
  {
   "cell_type": "markdown",
   "metadata": {},
   "source": [
    "#### Calculate the features"
   ]
  },
  {
   "cell_type": "code",
   "execution_count": 11,
   "metadata": {},
   "outputs": [],
   "source": [
    "#Calculating features:\n",
    "\n",
    "data['Ft_target_cross_levenshtein'] = data.apply(lambda row: levenshtein((row['Txt_source_2_cross'], row['Txt_target_0ri'])) , axis=1)\n",
    "\n",
    "data['Ft_source_cross_levenshtein'] = data.apply(lambda row: levenshtein((row['Txt_target_2_cross'], row['Txt_source_0ri'])) , axis=1)\n",
    "\n",
    "data['Ft_number_match'] = data.apply(lambda row: number_match(  (row['Txt_source_0ri'], row['Txt_target_0ri'])) , axis=1)\n",
    "\n",
    "data['Ft_senlength_av'] = data.apply(lambda row: np.mean( senlength( ( row[ 'Txt_source_0ri'] , row[ 'Txt_target_0ri'  ] )  ) )  , axis=1)\n",
    "\n",
    "data[ 'Ft_senlength_diff' ]=data.apply(lambda row: abs(  senlength( ( row[ 'Txt_source_0ri' ], row[ 'Txt_target_0ri'  ] )  ) [0] -  \\\n",
    "                                                            senlength( ( row[ 'Txt_source_0ri' ], row[ 'Txt_target_0ri'  ] )  )[1]   ), axis=1)\n",
    "\n",
    "data[ 'Ft_semantic_sim_infersent' ]  = calc_semantic_sim_infersent( data.Txt_source_2_en.tolist() , data.Txt_target_2_en.tolist()  )\n"
   ]
  },
  {
   "cell_type": "code",
   "execution_count": 12,
   "metadata": {},
   "outputs": [
    {
     "data": {
      "text/plain": [
       "Lbl_misalign_gold                0.629037\n",
       "Class_misalign_gold              0.135643\n",
       "Ft_target_cross_levenshtein      0.673471\n",
       "Ft_source_cross_levenshtein      0.771350\n",
       "Ft_number_match                  0.561508\n",
       "Ft_senlength_av                119.209630\n",
       "Ft_senlength_diff               15.524369\n",
       "Ft_semantic_sim_infersent        0.782492\n",
       "dtype: float64"
      ]
     },
     "execution_count": 12,
     "metadata": {},
     "output_type": "execute_result"
    }
   ],
   "source": [
    "data.mean()"
   ]
  },
  {
   "cell_type": "code",
   "execution_count": 13,
   "metadata": {},
   "outputs": [
    {
     "data": {
      "text/plain": [
       "Lbl_misalign_gold               1.285585\n",
       "Class_misalign_gold             0.342459\n",
       "Ft_target_cross_levenshtein     0.165804\n",
       "Ft_source_cross_levenshtein     0.186631\n",
       "Ft_number_match                 0.178779\n",
       "Ft_senlength_av                87.219792\n",
       "Ft_senlength_diff              23.372684\n",
       "Ft_semantic_sim_infersent       0.161470\n",
       "dtype: float64"
      ]
     },
     "execution_count": 13,
     "metadata": {},
     "output_type": "execute_result"
    }
   ],
   "source": [
    "data.std()"
   ]
  },
  {
   "cell_type": "markdown",
   "metadata": {},
   "source": [
    "#### convert pandas dataframe to numpy arrays"
   ]
  },
  {
   "cell_type": "code",
   "execution_count": 15,
   "metadata": {},
   "outputs": [],
   "source": [
    "X=data.filter(regex='^Ft_.*').values \n",
    "feature_names=data.filter(regex='^Ft_.*').columns\n",
    "Y=data[[  'Lbl_misalign_gold' , 'Class_misalign_gold'  ]].values  "
   ]
  },
  {
   "cell_type": "markdown",
   "metadata": {},
   "source": [
    "#### balance the data"
   ]
  },
  {
   "cell_type": "code",
   "execution_count": 18,
   "metadata": {},
   "outputs": [
    {
     "name": "stdout",
     "output_type": "stream",
     "text": [
      "2.7489177489177488\n"
     ]
    }
   ],
   "source": [
    "np.random.seed(1)\n",
    "bal_fac=2.75  #the balance factor (we want 2.75 times more aligned sentences compared to non-aligned sentences)\n",
    "\n",
    "index_of_non_aligned_sentences=np.argwhere(  Y[:,1]==1    ).transpose().flatten()  #take all the non aligned sentences.\n",
    "index_of_aligned_sentences=np.random.choice( np.argwhere(  Y[:,1]==0    ).transpose().flatten() , replace=False, size= int( np.sum(Y[:,1])*bal_fac  )  )  \n",
    "\n",
    "print( len(index_of_aligned_sentences ) / len(index_of_non_aligned_sentences ) )\n",
    "chosen_indices=np.concatenate(( index_of_aligned_sentences    , index_of_non_aligned_sentences  ), axis=None)\n",
    "\n",
    "X_b=X[ chosen_indices ]\n",
    "Y_b=Y[ chosen_indices ]\n",
    "\n",
    "non_chosen_indices=np.array( [x for x in  np.arange(X.shape[0]) if x not in chosen_indices ] )\n",
    "\n",
    "X_b_not_chosen=X[ non_chosen_indices ]\n",
    "Y_b_not_chosen=Y[ non_chosen_indices ]"
   ]
  },
  {
   "cell_type": "markdown",
   "metadata": {},
   "source": [
    "#### train test split"
   ]
  },
  {
   "cell_type": "code",
   "execution_count": 19,
   "metadata": {},
   "outputs": [
    {
     "name": "stdout",
     "output_type": "stream",
     "text": [
      "size of train set 866\n",
      "size of test set 2540\n",
      "for balanced set, percentage of misaligned sentences:\n",
      "train set\n",
      "0.27713625866050806\n",
      "test set\n",
      "0.25635103926096997\n",
      "for test set, percentage of misaligned sentences\n",
      "0.09448818897637795\n"
     ]
    }
   ],
   "source": [
    "#train test split the balanced data\n",
    "X_b_train, X_b_test, Y_b_train, Y_b_test = train_test_split( X_b , Y_b,  test_size=0.5, random_state=200 ) \n",
    "X_test=np.concatenate(  ( X_b_test, X_b_not_chosen )   )\n",
    "Y_test=np.concatenate(  ( Y_b_test, Y_b_not_chosen )   )\n",
    "print( 'size of train set', X_b_train.shape[0]  )\n",
    "print( 'size of test set', X_test.shape[0]  )\n",
    "\n",
    "print('for balanced set, percentage of misaligned sentences:')\n",
    "print('train set')\n",
    "print( np.sum( Y_b_test[:,1] ) / Y_b_test.shape[0]   )\n",
    "print('test set')\n",
    "print( np.sum( Y_b_train[:,1] ) / Y_b_train.shape[0]   )\n",
    "\n",
    "print('for test set, percentage of misaligned sentences')\n",
    "print( np.sum( Y_test[:,1] ) / Y_test.shape[0]   )"
   ]
  },
  {
   "cell_type": "markdown",
   "metadata": {},
   "source": [
    "#### Univariate feature importance"
   ]
  },
  {
   "cell_type": "code",
   "execution_count": 20,
   "metadata": {},
   "outputs": [
    {
     "data": {
      "text/html": [
       "<style  type=\"text/css\" >\n",
       "    #T_761b2924_65a8_11e9_afc5_0242ac11000brow0_col0 {\n",
       "            background-color:  #008000;\n",
       "        }    #T_761b2924_65a8_11e9_afc5_0242ac11000brow0_col1 {\n",
       "            background-color:  #008000;\n",
       "        }    #T_761b2924_65a8_11e9_afc5_0242ac11000brow1_col0 {\n",
       "            background-color:  #6dbc6d;\n",
       "        }    #T_761b2924_65a8_11e9_afc5_0242ac11000brow1_col1 {\n",
       "            background-color:  #2a972a;\n",
       "        }    #T_761b2924_65a8_11e9_afc5_0242ac11000brow2_col0 {\n",
       "            background-color:  #76c176;\n",
       "        }    #T_761b2924_65a8_11e9_afc5_0242ac11000brow2_col1 {\n",
       "            background-color:  #399f39;\n",
       "        }    #T_761b2924_65a8_11e9_afc5_0242ac11000brow3_col0 {\n",
       "            background-color:  #b8e6b8;\n",
       "        }    #T_761b2924_65a8_11e9_afc5_0242ac11000brow3_col1 {\n",
       "            background-color:  #74c074;\n",
       "        }    #T_761b2924_65a8_11e9_afc5_0242ac11000brow4_col0 {\n",
       "            background-color:  #d1f4d1;\n",
       "        }    #T_761b2924_65a8_11e9_afc5_0242ac11000brow4_col1 {\n",
       "            background-color:  #c7eec7;\n",
       "        }    #T_761b2924_65a8_11e9_afc5_0242ac11000brow5_col0 {\n",
       "            background-color:  #e5ffe5;\n",
       "        }    #T_761b2924_65a8_11e9_afc5_0242ac11000brow5_col1 {\n",
       "            background-color:  #e5ffe5;\n",
       "        }</style>  \n",
       "<table id=\"T_761b2924_65a8_11e9_afc5_0242ac11000b\" > \n",
       "<thead>    <tr> \n",
       "        <th class=\"blank level0\" ></th> \n",
       "        <th class=\"col_heading level0 col0\" >f_score</th> \n",
       "        <th class=\"col_heading level0 col1\" >mut_info</th> \n",
       "    </tr></thead> \n",
       "<tbody>    <tr> \n",
       "        <th id=\"T_761b2924_65a8_11e9_afc5_0242ac11000blevel0_row0\" class=\"row_heading level0 row0\" >Ft_source_cross_levenshtein</th> \n",
       "        <td id=\"T_761b2924_65a8_11e9_afc5_0242ac11000brow0_col0\" class=\"data row0 col0\" >1</td> \n",
       "        <td id=\"T_761b2924_65a8_11e9_afc5_0242ac11000brow0_col1\" class=\"data row0 col1\" >1</td> \n",
       "    </tr>    <tr> \n",
       "        <th id=\"T_761b2924_65a8_11e9_afc5_0242ac11000blevel0_row1\" class=\"row_heading level0 row1\" >Ft_target_cross_levenshtein</th> \n",
       "        <td id=\"T_761b2924_65a8_11e9_afc5_0242ac11000brow1_col0\" class=\"data row1 col0\" >0.53</td> \n",
       "        <td id=\"T_761b2924_65a8_11e9_afc5_0242ac11000brow1_col1\" class=\"data row1 col1\" >0.82</td> \n",
       "    </tr>    <tr> \n",
       "        <th id=\"T_761b2924_65a8_11e9_afc5_0242ac11000blevel0_row2\" class=\"row_heading level0 row2\" >Ft_semantic_sim_infersent</th> \n",
       "        <td id=\"T_761b2924_65a8_11e9_afc5_0242ac11000brow2_col0\" class=\"data row2 col0\" >0.49</td> \n",
       "        <td id=\"T_761b2924_65a8_11e9_afc5_0242ac11000brow2_col1\" class=\"data row2 col1\" >0.76</td> \n",
       "    </tr>    <tr> \n",
       "        <th id=\"T_761b2924_65a8_11e9_afc5_0242ac11000blevel0_row3\" class=\"row_heading level0 row3\" >Ft_number_match</th> \n",
       "        <td id=\"T_761b2924_65a8_11e9_afc5_0242ac11000brow3_col0\" class=\"data row3 col0\" >0.21</td> \n",
       "        <td id=\"T_761b2924_65a8_11e9_afc5_0242ac11000brow3_col1\" class=\"data row3 col1\" >0.51</td> \n",
       "    </tr>    <tr> \n",
       "        <th id=\"T_761b2924_65a8_11e9_afc5_0242ac11000blevel0_row4\" class=\"row_heading level0 row4\" >Ft_senlength_diff</th> \n",
       "        <td id=\"T_761b2924_65a8_11e9_afc5_0242ac11000brow4_col0\" class=\"data row4 col0\" >0.1</td> \n",
       "        <td id=\"T_761b2924_65a8_11e9_afc5_0242ac11000brow4_col1\" class=\"data row4 col1\" >0.16</td> \n",
       "    </tr>    <tr> \n",
       "        <th id=\"T_761b2924_65a8_11e9_afc5_0242ac11000blevel0_row5\" class=\"row_heading level0 row5\" >Ft_senlength_av</th> \n",
       "        <td id=\"T_761b2924_65a8_11e9_afc5_0242ac11000brow5_col0\" class=\"data row5 col0\" >0.01</td> \n",
       "        <td id=\"T_761b2924_65a8_11e9_afc5_0242ac11000brow5_col1\" class=\"data row5 col1\" >0.03</td> \n",
       "    </tr></tbody> \n",
       "</table> "
      ],
      "text/plain": [
       "<pandas.io.formats.style.Styler at 0x7f2e7e3dacc0>"
      ]
     },
     "metadata": {},
     "output_type": "display_data"
    }
   ],
   "source": [
    "#Create pandas dataframe to collect feature importance scores:\n",
    "feat_df = pd.DataFrame(index=feature_names, columns = ['f_score', 'mut_info'])\n",
    "\n",
    "#Univariate linear regression test:\n",
    "\n",
    "f_regression_results=pd.Series( dict(zip(feature_names, f_regression(X_b_train, Y_b_train[:,0] )[0])  ) )\n",
    "f_regression_results=f_regression_results.apply(  lambda x: x/max( f_regression_results ) )   #divide by maximum value\n",
    "\n",
    "feat_df['f_score']=f_regression_results\n",
    "\n",
    "#Univariate mutual info regression test \n",
    "\n",
    "mutual_info_regression_results= pd.Series( dict( zip( feature_names, mutual_info_regression(  X_b_train, Y_b_train[:,0]  ))))\n",
    "mutual_info_regression_results=mutual_info_regression_results.apply(  lambda x: x/max( mutual_info_regression_results ) )\n",
    "\n",
    "feat_df['mut_info']=mutual_info_regression_results\n",
    "\n",
    "feat_df.sort_values(by='f_score', ascending = False, inplace=True)\n",
    "\n",
    "\n",
    "feat_df['f_score'] = feat_df['f_score'].apply(lambda x: round(x,2)) \n",
    "feat_df['mut_info'] = feat_df['mut_info'].apply(lambda x: round(x,2)) \n",
    "\n",
    "feat_styled = feat_df.style.background_gradient(cmap=sns.light_palette(\"green\", as_cmap=True))\n",
    "\n",
    "display(feat_styled)"
   ]
  },
  {
   "cell_type": "markdown",
   "metadata": {},
   "source": [
    "#### Pearson correlation"
   ]
  },
  {
   "cell_type": "code",
   "execution_count": 21,
   "metadata": {},
   "outputs": [
    {
     "data": {
      "image/png": "[encoded data removed]",
      "text/plain": [
       "<Figure size 604.8x504 with 2 Axes>"
      ]
     },
     "metadata": {
      "needs_background": "light"
     },
     "output_type": "display_data"
    }
   ],
   "source": [
    "figsz=7\n",
    "corr_matrix=np.abs( pd.DataFrame(  X_b_train, columns=feature_names ).corr())\n",
    "mask = np.zeros_like(corr_matrix, dtype=np.bool)\n",
    "mask[np.diag_indices_from(mask)] = True\n",
    "fig, ax = plt.subplots(figsize=(figsz*1.2,figsz))\n",
    "sns.heatmap(corr_matrix, mask=mask,  linewidths=.3, )\n",
    "\n",
    "plt.setp(ax.get_xticklabels(), rotation=45, ha=\"right\",\n",
    "         rotation_mode=\"anchor\")\n",
    "\n",
    "fig.tight_layout()\n"
   ]
  },
  {
   "cell_type": "markdown",
   "metadata": {},
   "source": [
    "#### Regression utility function"
   ]
  },
  {
   "cell_type": "code",
   "execution_count": 22,
   "metadata": {},
   "outputs": [],
   "source": [
    "def loss_r2(gold_lbls, pred_lbls): return (r2_score(gold_lbls,pred_lbls)) \n",
    "scorer = make_scorer(loss_r2, greater_is_better=True)"
   ]
  },
  {
   "cell_type": "markdown",
   "metadata": {},
   "source": [
    "#### Supervised regression"
   ]
  },
  {
   "cell_type": "code",
   "execution_count": 24,
   "metadata": {},
   "outputs": [
    {
     "data": {
      "text/plain": [
       "Index(['Ft_target_cross_levenshtein', 'Ft_source_cross_levenshtein',\n",
       "       'Ft_number_match', 'Ft_senlength_av', 'Ft_senlength_diff',\n",
       "       'Ft_semantic_sim_infersent'],\n",
       "      dtype='object')"
      ]
     },
     "execution_count": 24,
     "metadata": {},
     "output_type": "execute_result"
    }
   ],
   "source": [
    "feature_names"
   ]
  },
  {
   "cell_type": "code",
   "execution_count": 25,
   "metadata": {},
   "outputs": [
    {
     "data": {
      "text/plain": [
       "[1, 2, 3, 4, 5]"
      ]
     },
     "execution_count": 25,
     "metadata": {},
     "output_type": "execute_result"
    }
   ],
   "source": [
    "chosen_features=[ 'Ft_source_cross_levenshtein'  , 'Ft_number_match' , 'Ft_senlength_av',  'Ft_senlength_diff' , 'Ft_semantic_sim_infersent' ]\n",
    "\n",
    "chosen_features_indices = []\n",
    "for i in range( len( feature_names ) ):\n",
    "    if feature_names[i] in chosen_features:\n",
    "        chosen_features_indices.append( i )\n",
    "        \n",
    "chosen_features_indices"
   ]
  },
  {
   "cell_type": "markdown",
   "metadata": {},
   "source": [
    "#### Check feature importance. "
   ]
  },
  {
   "cell_type": "code",
   "execution_count": 26,
   "metadata": {},
   "outputs": [
    {
     "name": "stdout",
     "output_type": "stream",
     "text": [
      "Ft_source_cross_levenshtein 0.5096346663252926 +/- 0.00854102099786912 \n",
      "\n",
      "Ft_number_match 0.1193575366099745 +/- 0.011340709991795725 \n",
      "\n",
      "Ft_senlength_av 0.05686683427156007 +/- 0.004079834746598657 \n",
      "\n",
      "Ft_senlength_diff 0.082536174909884 +/- 0.011816283815402952 \n",
      "\n",
      "Ft_semantic_sim_infersent 0.23160478788328848 +/- 0.006905311851532519 \n",
      "\n"
     ]
    }
   ],
   "source": [
    "from sklearn.model_selection import ShuffleSplit\n",
    "\n",
    "splits=10\n",
    "feature_importances=[]\n",
    "\n",
    "rs = ShuffleSplit(n_splits=splits, test_size=0.25, random_state=0)\n",
    "\n",
    "for train_index, test_index in rs.split( np.arange(len( X_b_train )) ):\n",
    "    estimator = RandomForestRegressor(  n_estimators=500, max_depth=10, max_features='sqrt', min_samples_leaf=2, min_samples_split=2, random_state=1  )\n",
    "    \n",
    "    estimator.fit(X_b_train[ train_index ][:,chosen_features_indices], Y_b_train[ train_index][: ,0])\n",
    "    feature_importances.append(     estimator.feature_importances_ )\n",
    "    \n",
    "feature_importances_all=np.array(feature_importances).reshape(splits,-1)\n",
    "    \n",
    "feature_importance_mean=np.mean(feature_importances_all , axis=0 )\n",
    "feature_importance_std =np.std(feature_importances_all , axis=0 )\n",
    "for feature, feature_importance_mean_, feature_importance_std_ in zip(  chosen_features , feature_importance_mean,   feature_importance_std  ):\n",
    "    print(  feature, feature_importance_mean_, '+/-', feature_importance_std_  , '\\n'  )"
   ]
  },
  {
   "cell_type": "code",
   "execution_count": 28,
   "metadata": {},
   "outputs": [
    {
     "data": {
      "image/png": "[encoded data removed]",
      "text/plain": [
       "<Figure size 1440x504 with 1 Axes>"
      ]
     },
     "metadata": {
      "needs_background": "light"
     },
     "output_type": "display_data"
    }
   ],
   "source": [
    "plt.figure()\n",
    "\n",
    "plt.rcParams['figure.figsize'] = 20, 7\n",
    "plt.rcParams.update({'font.size': 15})\n",
    "\n",
    "plt.bar(range( len(chosen_features)  ), feature_importance_mean,\n",
    "       color=\"r\", yerr=feature_importance_std, align=\"center\")\n",
    "plt.xticks(range(  len(chosen_features)  ), chosen_features)\n",
    "plt.xlim([-1, X.shape[1] -1 ]  )\n",
    "plt.ylabel(\"feature importance\")\n",
    "plt.show()"
   ]
  },
  {
   "cell_type": "markdown",
   "metadata": {},
   "source": [
    "##### Support vector machines"
   ]
  },
  {
   "cell_type": "code",
   "execution_count": 29,
   "metadata": {},
   "outputs": [
    {
     "name": "stdout",
     "output_type": "stream",
     "text": [
      "Fitting 5 folds for each of 320 candidates, totalling 1600 fits\n"
     ]
    },
    {
     "name": "stderr",
     "output_type": "stream",
     "text": [
      "[Parallel(n_jobs=20)]: Done  10 tasks      | elapsed:    0.2s\n",
      "[Parallel(n_jobs=20)]: Done 760 tasks      | elapsed:    3.8s\n",
      "[Parallel(n_jobs=20)]: Done 1506 tasks      | elapsed:  2.2min\n",
      "[Parallel(n_jobs=20)]: Done 1561 out of 1600 | elapsed:  2.4min remaining:    3.6s\n",
      "[Parallel(n_jobs=20)]: Done 1600 out of 1600 | elapsed:  2.6min finished\n"
     ]
    },
    {
     "name": "stdout",
     "output_type": "stream",
     "text": [
      "fitting done, took 155.07 s\n",
      "best params {'clf__C': 1.0, 'clf__epsilon': 0.1, 'clf__gamma': 0.19306977288832497}\n",
      "score: 0.8520280706604335 +/- 0.004374616518240196\n",
      "score: 0.8284993005217522 +/- 0.019085354561178283\n"
     ]
    }
   ],
   "source": [
    "import time\n",
    "pipe = Pipeline([\n",
    "        ('scale', StandardScaler()),\n",
    "        ('clf', SVR(kernel = 'rbf'))])\n",
    "\n",
    "param_grid = dict(clf__C=np.logspace( -3,3,5 ),\n",
    "                  clf__gamma=np.logspace(-3, 1, 8),\n",
    "                  clf__epsilon=np.logspace(-6,-1,8)\n",
    "                 )\n",
    "\n",
    "estimator = GridSearchCV(pipe, param_grid=param_grid, cv=5, n_jobs=20, verbose=1, scoring= scorer, return_train_score=True ) \n",
    "\n",
    "start=time.time()\n",
    "estimator.fit(X_b_train[:, chosen_features_indices], Y_b_train[:,0])\n",
    "end=time.time()\n",
    "\n",
    "print( 'fitting done, took %.2f s' %(end-start) )\n",
    "\n",
    "print(  'best params', estimator.cv_results_['params'][estimator.best_index_]  )\n",
    "\n",
    "print( 'score:',  estimator.cv_results_['mean_train_score'][estimator.best_index_], '+/-', estimator.cv_results_['std_train_score'][estimator.best_index_] )\n",
    "\n",
    "print( 'score:',  estimator.cv_results_['mean_test_score'][estimator.best_index_], '+/-', estimator.cv_results_['std_test_score'][estimator.best_index_] )\n",
    "\n",
    "estimator_SVC=estimator"
   ]
  },
  {
   "cell_type": "markdown",
   "metadata": {},
   "source": [
    "#### Random Forest regression"
   ]
  },
  {
   "cell_type": "code",
   "execution_count": 30,
   "metadata": {},
   "outputs": [
    {
     "name": "stdout",
     "output_type": "stream",
     "text": [
      "Fitting 5 folds for each of 180 candidates, totalling 900 fits\n"
     ]
    },
    {
     "name": "stderr",
     "output_type": "stream",
     "text": [
      "[Parallel(n_jobs=20)]: Done  10 tasks      | elapsed:    1.5s\n",
      "[Parallel(n_jobs=20)]: Done 160 tasks      | elapsed:   11.8s\n",
      "[Parallel(n_jobs=20)]: Done 410 tasks      | elapsed:   32.5s\n",
      "[Parallel(n_jobs=20)]: Done 760 tasks      | elapsed:  1.0min\n",
      "[Parallel(n_jobs=20)]: Done 900 out of 900 | elapsed:  1.2min finished\n"
     ]
    },
    {
     "name": "stdout",
     "output_type": "stream",
     "text": [
      "best params {'clf__max_depth': 10, 'clf__max_features': 'sqrt', 'clf__min_samples_leaf': 1, 'clf__min_samples_split': 5}\n",
      "score: 0.9471464092606846 +/- 0.003473900943332551\n",
      "score: 0.8250859830062323 +/- 0.0345001062948991\n"
     ]
    }
   ],
   "source": [
    "pipe = Pipeline([\n",
    "        ('scale', StandardScaler()),\n",
    "        ('clf', RandomForestRegressor( n_estimators= 500  ))])\n",
    "\n",
    "param_grid = dict(clf__max_depth=[2,5,10,20,50 ],\n",
    "                  clf__min_samples_split=[2,5,10 ],\n",
    "                  clf__min_samples_leaf=[1, 2, 5,10      ],\n",
    "                  clf__max_features=[ 'auto'  , 'sqrt' ,  'log2']\n",
    "                 )\n",
    "\n",
    "estimator = GridSearchCV(pipe, param_grid=param_grid, cv=5, n_jobs=20, verbose=1, scoring= scorer, return_train_score=True )  #This is for GridSearchCV\n",
    "#estimator = RandomizedSearchCV(pipe, param_distributions=param_grid, cv=2, n_jobs=20, verbose=2, scoring= scorer )\n",
    "\n",
    "#estimator.fit(X_b_train[:,:-1], Y_b_train[:,0])\n",
    "estimator.fit(X_b_train[:, chosen_features_indices ], Y_b_train[:,0])\n",
    "\n",
    "print(  'best params', estimator.cv_results_['params'][estimator.best_index_]  )\n",
    "\n",
    "print( 'score:',  estimator.cv_results_['mean_train_score'][estimator.best_index_], '+/-', estimator.cv_results_['std_train_score'][estimator.best_index_] )\n",
    "\n",
    "print( 'score:',  estimator.cv_results_['mean_test_score'][estimator.best_index_], '+/-', estimator.cv_results_['std_test_score'][estimator.best_index_] )\n",
    "\n",
    "estimator_RF=estimator"
   ]
  },
  {
   "cell_type": "markdown",
   "metadata": {},
   "source": [
    "#### Gradient boosted regressor"
   ]
  },
  {
   "cell_type": "code",
   "execution_count": 31,
   "metadata": {},
   "outputs": [
    {
     "name": "stdout",
     "output_type": "stream",
     "text": [
      "Fitting 5 folds for each of 180 candidates, totalling 900 fits\n"
     ]
    },
    {
     "name": "stderr",
     "output_type": "stream",
     "text": [
      "[Parallel(n_jobs=20)]: Done  10 tasks      | elapsed:    0.3s\n",
      "[Parallel(n_jobs=20)]: Done 160 tasks      | elapsed:    7.2s\n",
      "[Parallel(n_jobs=20)]: Done 410 tasks      | elapsed:   20.4s\n",
      "[Parallel(n_jobs=20)]: Done 760 tasks      | elapsed:   34.1s\n",
      "[Parallel(n_jobs=20)]: Done 900 out of 900 | elapsed:   36.0s finished\n"
     ]
    },
    {
     "name": "stdout",
     "output_type": "stream",
     "text": [
      "best params {'clf__learning_rate': 0.012, 'clf__max_depth': 2, 'clf__min_samples_leaf': 5, 'clf__min_samples_split': 2}\n",
      "score: 0.8672268598940255 +/- 0.0065212239488491855\n",
      "score: 0.8101774014439624 +/- 0.039000265036704514\n"
     ]
    }
   ],
   "source": [
    "pipe = Pipeline([\n",
    "        ('scale', StandardScaler()),\n",
    "        ('clf', GradientBoostingRegressor( loss='ls',\n",
    "                                             learning_rate=0.012, \n",
    "                                             max_depth=2,\n",
    "                                             min_samples_leaf=2,\n",
    "                                             min_samples_split=2,\n",
    "                                             n_estimators=570\n",
    "                                            )   )])\n",
    "\n",
    "param_grid = dict(clf__learning_rate=[  0.001  , 0.012, 0.1 ,1],\n",
    "                  clf__max_depth=[ 2,5,10,20,50  ],\n",
    "                  clf__min_samples_leaf=[  2, 5, 10  ],\n",
    "                  clf__min_samples_split=[ 2,5,10   ]\n",
    "                 )\n",
    "\n",
    "estimator = GridSearchCV(pipe, param_grid=param_grid, cv=5, n_jobs=20, verbose=1, scoring= scorer, return_train_score=True )  #This is for GridSearchCV\n",
    "\n",
    "estimator.fit(X_b_train[:, chosen_features_indices ], Y_b_train[:,0])\n",
    "\n",
    "\n",
    "print(  'best params', estimator.cv_results_['params'][estimator.best_index_]  )\n",
    "\n",
    "print( 'score:',  estimator.cv_results_['mean_train_score'][estimator.best_index_], '+/-', estimator.cv_results_['std_train_score'][estimator.best_index_] )\n",
    "\n",
    "print( 'score:',  estimator.cv_results_['mean_test_score'][estimator.best_index_], '+/-', estimator.cv_results_['std_test_score'][estimator.best_index_] )\n",
    "\n",
    "estimator_GB=estimator\n"
   ]
  },
  {
   "cell_type": "markdown",
   "metadata": {},
   "source": [
    "#### Elastic Net"
   ]
  },
  {
   "cell_type": "code",
   "execution_count": 32,
   "metadata": {},
   "outputs": [
    {
     "name": "stdout",
     "output_type": "stream",
     "text": [
      "Fitting 5 folds for each of 140 candidates, totalling 700 fits\n"
     ]
    },
    {
     "name": "stderr",
     "output_type": "stream",
     "text": [
      "/miniconda/lib/python3.6/site-packages/sklearn/pipeline.py:259: UserWarning: With alpha=0, this algorithm does not converge well. You are advised to use the LinearRegression estimator\n",
      "  self._final_estimator.fit(Xt, y, **fit_params)\n",
      "/miniconda/lib/python3.6/site-packages/sklearn/pipeline.py:259: UserWarning: With alpha=0, this algorithm does not converge well. You are advised to use the LinearRegression estimator\n",
      "  self._final_estimator.fit(Xt, y, **fit_params)\n",
      "/miniconda/lib/python3.6/site-packages/sklearn/linear_model/coordinate_descent.py:477: UserWarning: Coordinate descent with no regularization may lead to unexpected results and is discouraged.\n",
      "  positive)\n",
      "/miniconda/lib/python3.6/site-packages/sklearn/pipeline.py:259: UserWarning: With alpha=0, this algorithm does not converge well. You are advised to use the LinearRegression estimator\n",
      "  self._final_estimator.fit(Xt, y, **fit_params)\n",
      "/miniconda/lib/python3.6/site-packages/sklearn/linear_model/coordinate_descent.py:477: UserWarning: Coordinate descent with no regularization may lead to unexpected results and is discouraged.\n",
      "  positive)\n",
      "/miniconda/lib/python3.6/site-packages/sklearn/linear_model/coordinate_descent.py:477: UserWarning: Coordinate descent with no regularization may lead to unexpected results and is discouraged.\n",
      "  positive)\n",
      "/miniconda/lib/python3.6/site-packages/sklearn/linear_model/coordinate_descent.py:491: ConvergenceWarning: Objective did not converge. You might want to increase the number of iterations. Fitting data with very small alpha may cause precision problems.\n",
      "  ConvergenceWarning)\n",
      "/miniconda/lib/python3.6/site-packages/sklearn/linear_model/coordinate_descent.py:491: ConvergenceWarning: Objective did not converge. You might want to increase the number of iterations. Fitting data with very small alpha may cause precision problems.\n",
      "  ConvergenceWarning)\n",
      "/miniconda/lib/python3.6/site-packages/sklearn/linear_model/coordinate_descent.py:491: ConvergenceWarning: Objective did not converge. You might want to increase the number of iterations. Fitting data with very small alpha may cause precision problems.\n",
      "  ConvergenceWarning)\n",
      "/miniconda/lib/python3.6/site-packages/sklearn/pipeline.py:259: UserWarning: With alpha=0, this algorithm does not converge well. You are advised to use the LinearRegression estimator\n",
      "  self._final_estimator.fit(Xt, y, **fit_params)\n",
      "/miniconda/lib/python3.6/site-packages/sklearn/pipeline.py:259: UserWarning: With alpha=0, this algorithm does not converge well. You are advised to use the LinearRegression estimator\n",
      "  self._final_estimator.fit(Xt, y, **fit_params)\n",
      "/miniconda/lib/python3.6/site-packages/sklearn/linear_model/coordinate_descent.py:477: UserWarning: Coordinate descent with no regularization may lead to unexpected results and is discouraged.\n",
      "  positive)\n",
      "/miniconda/lib/python3.6/site-packages/sklearn/linear_model/coordinate_descent.py:477: UserWarning: Coordinate descent with no regularization may lead to unexpected results and is discouraged.\n",
      "  positive)\n",
      "/miniconda/lib/python3.6/site-packages/sklearn/linear_model/coordinate_descent.py:491: ConvergenceWarning: Objective did not converge. You might want to increase the number of iterations. Fitting data with very small alpha may cause precision problems.\n",
      "  ConvergenceWarning)\n",
      "/miniconda/lib/python3.6/site-packages/sklearn/linear_model/coordinate_descent.py:491: ConvergenceWarning: Objective did not converge. You might want to increase the number of iterations. Fitting data with very small alpha may cause precision problems.\n",
      "  ConvergenceWarning)\n",
      "/miniconda/lib/python3.6/site-packages/sklearn/pipeline.py:259: UserWarning: With alpha=0, this algorithm does not converge well. You are advised to use the LinearRegression estimator\n",
      "  self._final_estimator.fit(Xt, y, **fit_params)\n",
      "/miniconda/lib/python3.6/site-packages/sklearn/pipeline.py:259: UserWarning: With alpha=0, this algorithm does not converge well. You are advised to use the LinearRegression estimator\n",
      "  self._final_estimator.fit(Xt, y, **fit_params)\n",
      "/miniconda/lib/python3.6/site-packages/sklearn/linear_model/coordinate_descent.py:477: UserWarning: Coordinate descent with no regularization may lead to unexpected results and is discouraged.\n",
      "  positive)\n",
      "/miniconda/lib/python3.6/site-packages/sklearn/linear_model/coordinate_descent.py:477: UserWarning: Coordinate descent with no regularization may lead to unexpected results and is discouraged.\n",
      "  positive)\n",
      "/miniconda/lib/python3.6/site-packages/sklearn/pipeline.py:259: UserWarning: With alpha=0, this algorithm does not converge well. You are advised to use the LinearRegression estimator\n",
      "  self._final_estimator.fit(Xt, y, **fit_params)\n",
      "/miniconda/lib/python3.6/site-packages/sklearn/pipeline.py:259: UserWarning: With alpha=0, this algorithm does not converge well. You are advised to use the LinearRegression estimator\n",
      "  self._final_estimator.fit(Xt, y, **fit_params)\n",
      "/miniconda/lib/python3.6/site-packages/sklearn/pipeline.py:259: UserWarning: With alpha=0, this algorithm does not converge well. You are advised to use the LinearRegression estimator\n",
      "  self._final_estimator.fit(Xt, y, **fit_params)\n",
      "/miniconda/lib/python3.6/site-packages/sklearn/linear_model/coordinate_descent.py:477: UserWarning: Coordinate descent with no regularization may lead to unexpected results and is discouraged.\n",
      "  positive)\n",
      "/miniconda/lib/python3.6/site-packages/sklearn/linear_model/coordinate_descent.py:477: UserWarning: Coordinate descent with no regularization may lead to unexpected results and is discouraged.\n",
      "  positive)\n",
      "/miniconda/lib/python3.6/site-packages/sklearn/linear_model/coordinate_descent.py:477: UserWarning: Coordinate descent with no regularization may lead to unexpected results and is discouraged.\n",
      "  positive)\n",
      "/miniconda/lib/python3.6/site-packages/sklearn/pipeline.py:259: UserWarning: With alpha=0, this algorithm does not converge well. You are advised to use the LinearRegression estimator\n",
      "  self._final_estimator.fit(Xt, y, **fit_params)\n",
      "/miniconda/lib/python3.6/site-packages/sklearn/linear_model/coordinate_descent.py:491: ConvergenceWarning: Objective did not converge. You might want to increase the number of iterations. Fitting data with very small alpha may cause precision problems.\n",
      "  ConvergenceWarning)\n",
      "/miniconda/lib/python3.6/site-packages/sklearn/linear_model/coordinate_descent.py:477: UserWarning: Coordinate descent with no regularization may lead to unexpected results and is discouraged.\n",
      "  positive)\n",
      "/miniconda/lib/python3.6/site-packages/sklearn/linear_model/coordinate_descent.py:491: ConvergenceWarning: Objective did not converge. You might want to increase the number of iterations. Fitting data with very small alpha may cause precision problems.\n",
      "  ConvergenceWarning)\n",
      "/miniconda/lib/python3.6/site-packages/sklearn/linear_model/coordinate_descent.py:491: ConvergenceWarning: Objective did not converge. You might want to increase the number of iterations. Fitting data with very small alpha may cause precision problems.\n",
      "  ConvergenceWarning)\n",
      "/miniconda/lib/python3.6/site-packages/sklearn/linear_model/coordinate_descent.py:477: UserWarning: Coordinate descent with no regularization may lead to unexpected results and is discouraged.\n",
      "  positive)\n",
      "/miniconda/lib/python3.6/site-packages/sklearn/linear_model/coordinate_descent.py:491: ConvergenceWarning: Objective did not converge. You might want to increase the number of iterations. Fitting data with very small alpha may cause precision problems.\n",
      "  ConvergenceWarning)\n",
      "/miniconda/lib/python3.6/site-packages/sklearn/pipeline.py:259: UserWarning: With alpha=0, this algorithm does not converge well. You are advised to use the LinearRegression estimator\n",
      "  self._final_estimator.fit(Xt, y, **fit_params)\n",
      "/miniconda/lib/python3.6/site-packages/sklearn/linear_model/coordinate_descent.py:477: UserWarning: Coordinate descent with no regularization may lead to unexpected results and is discouraged.\n",
      "  positive)\n",
      "/miniconda/lib/python3.6/site-packages/sklearn/linear_model/coordinate_descent.py:491: ConvergenceWarning: Objective did not converge. You might want to increase the number of iterations. Fitting data with very small alpha may cause precision problems.\n",
      "  ConvergenceWarning)\n"
     ]
    },
    {
     "name": "stderr",
     "output_type": "stream",
     "text": [
      "/miniconda/lib/python3.6/site-packages/sklearn/linear_model/coordinate_descent.py:491: ConvergenceWarning: Objective did not converge. You might want to increase the number of iterations. Fitting data with very small alpha may cause precision problems.\n",
      "  ConvergenceWarning)\n",
      "/miniconda/lib/python3.6/site-packages/sklearn/linear_model/coordinate_descent.py:491: ConvergenceWarning: Objective did not converge. You might want to increase the number of iterations. Fitting data with very small alpha may cause precision problems.\n",
      "  ConvergenceWarning)\n",
      "/miniconda/lib/python3.6/site-packages/sklearn/pipeline.py:259: UserWarning: With alpha=0, this algorithm does not converge well. You are advised to use the LinearRegression estimator\n",
      "  self._final_estimator.fit(Xt, y, **fit_params)\n",
      "/miniconda/lib/python3.6/site-packages/sklearn/linear_model/coordinate_descent.py:477: UserWarning: Coordinate descent with no regularization may lead to unexpected results and is discouraged.\n",
      "  positive)\n",
      "/miniconda/lib/python3.6/site-packages/sklearn/linear_model/coordinate_descent.py:491: ConvergenceWarning: Objective did not converge. You might want to increase the number of iterations. Fitting data with very small alpha may cause precision problems.\n",
      "  ConvergenceWarning)\n",
      "/miniconda/lib/python3.6/site-packages/sklearn/pipeline.py:259: UserWarning: With alpha=0, this algorithm does not converge well. You are advised to use the LinearRegression estimator\n",
      "  self._final_estimator.fit(Xt, y, **fit_params)\n",
      "/miniconda/lib/python3.6/site-packages/sklearn/linear_model/coordinate_descent.py:477: UserWarning: Coordinate descent with no regularization may lead to unexpected results and is discouraged.\n",
      "  positive)\n",
      "/miniconda/lib/python3.6/site-packages/sklearn/pipeline.py:259: UserWarning: With alpha=0, this algorithm does not converge well. You are advised to use the LinearRegression estimator\n",
      "  self._final_estimator.fit(Xt, y, **fit_params)\n",
      "/miniconda/lib/python3.6/site-packages/sklearn/linear_model/coordinate_descent.py:491: ConvergenceWarning: Objective did not converge. You might want to increase the number of iterations. Fitting data with very small alpha may cause precision problems.\n",
      "  ConvergenceWarning)\n",
      "/miniconda/lib/python3.6/site-packages/sklearn/linear_model/coordinate_descent.py:477: UserWarning: Coordinate descent with no regularization may lead to unexpected results and is discouraged.\n",
      "  positive)\n",
      "/miniconda/lib/python3.6/site-packages/sklearn/linear_model/coordinate_descent.py:491: ConvergenceWarning: Objective did not converge. You might want to increase the number of iterations. Fitting data with very small alpha may cause precision problems.\n",
      "  ConvergenceWarning)\n",
      "/miniconda/lib/python3.6/site-packages/sklearn/pipeline.py:259: UserWarning: With alpha=0, this algorithm does not converge well. You are advised to use the LinearRegression estimator\n",
      "  self._final_estimator.fit(Xt, y, **fit_params)\n",
      "/miniconda/lib/python3.6/site-packages/sklearn/linear_model/coordinate_descent.py:477: UserWarning: Coordinate descent with no regularization may lead to unexpected results and is discouraged.\n",
      "  positive)\n",
      "/miniconda/lib/python3.6/site-packages/sklearn/linear_model/coordinate_descent.py:491: ConvergenceWarning: Objective did not converge. You might want to increase the number of iterations. Fitting data with very small alpha may cause precision problems.\n",
      "  ConvergenceWarning)\n",
      "/miniconda/lib/python3.6/site-packages/sklearn/pipeline.py:259: UserWarning: With alpha=0, this algorithm does not converge well. You are advised to use the LinearRegression estimator\n",
      "  self._final_estimator.fit(Xt, y, **fit_params)\n",
      "/miniconda/lib/python3.6/site-packages/sklearn/linear_model/coordinate_descent.py:477: UserWarning: Coordinate descent with no regularization may lead to unexpected results and is discouraged.\n",
      "  positive)\n",
      "/miniconda/lib/python3.6/site-packages/sklearn/linear_model/coordinate_descent.py:491: ConvergenceWarning: Objective did not converge. You might want to increase the number of iterations. Fitting data with very small alpha may cause precision problems.\n",
      "  ConvergenceWarning)\n",
      "/miniconda/lib/python3.6/site-packages/sklearn/pipeline.py:259: UserWarning: With alpha=0, this algorithm does not converge well. You are advised to use the LinearRegression estimator\n",
      "  self._final_estimator.fit(Xt, y, **fit_params)\n",
      "/miniconda/lib/python3.6/site-packages/sklearn/linear_model/coordinate_descent.py:477: UserWarning: Coordinate descent with no regularization may lead to unexpected results and is discouraged.\n",
      "  positive)\n",
      "/miniconda/lib/python3.6/site-packages/sklearn/linear_model/coordinate_descent.py:491: ConvergenceWarning: Objective did not converge. You might want to increase the number of iterations. Fitting data with very small alpha may cause precision problems.\n",
      "  ConvergenceWarning)\n",
      "/miniconda/lib/python3.6/site-packages/sklearn/pipeline.py:259: UserWarning: With alpha=0, this algorithm does not converge well. You are advised to use the LinearRegression estimator\n",
      "  self._final_estimator.fit(Xt, y, **fit_params)\n",
      "/miniconda/lib/python3.6/site-packages/sklearn/linear_model/coordinate_descent.py:477: UserWarning: Coordinate descent with no regularization may lead to unexpected results and is discouraged.\n",
      "  positive)\n",
      "/miniconda/lib/python3.6/site-packages/sklearn/pipeline.py:259: UserWarning: With alpha=0, this algorithm does not converge well. You are advised to use the LinearRegression estimator\n",
      "  self._final_estimator.fit(Xt, y, **fit_params)\n",
      "/miniconda/lib/python3.6/site-packages/sklearn/linear_model/coordinate_descent.py:491: ConvergenceWarning: Objective did not converge. You might want to increase the number of iterations. Fitting data with very small alpha may cause precision problems.\n",
      "  ConvergenceWarning)\n",
      "/miniconda/lib/python3.6/site-packages/sklearn/pipeline.py:259: UserWarning: With alpha=0, this algorithm does not converge well. You are advised to use the LinearRegression estimator\n",
      "  self._final_estimator.fit(Xt, y, **fit_params)\n",
      "/miniconda/lib/python3.6/site-packages/sklearn/pipeline.py:259: UserWarning: With alpha=0, this algorithm does not converge well. You are advised to use the LinearRegression estimator\n",
      "  self._final_estimator.fit(Xt, y, **fit_params)\n",
      "/miniconda/lib/python3.6/site-packages/sklearn/pipeline.py:259: UserWarning: With alpha=0, this algorithm does not converge well. You are advised to use the LinearRegression estimator\n",
      "  self._final_estimator.fit(Xt, y, **fit_params)\n",
      "/miniconda/lib/python3.6/site-packages/sklearn/linear_model/coordinate_descent.py:477: UserWarning: Coordinate descent with no regularization may lead to unexpected results and is discouraged.\n",
      "  positive)\n",
      "/miniconda/lib/python3.6/site-packages/sklearn/linear_model/coordinate_descent.py:477: UserWarning: Coordinate descent with no regularization may lead to unexpected results and is discouraged.\n",
      "  positive)\n",
      "/miniconda/lib/python3.6/site-packages/sklearn/linear_model/coordinate_descent.py:477: UserWarning: Coordinate descent with no regularization may lead to unexpected results and is discouraged.\n",
      "  positive)\n",
      "/miniconda/lib/python3.6/site-packages/sklearn/linear_model/coordinate_descent.py:491: ConvergenceWarning: Objective did not converge. You might want to increase the number of iterations. Fitting data with very small alpha may cause precision problems.\n",
      "  ConvergenceWarning)\n",
      "/miniconda/lib/python3.6/site-packages/sklearn/linear_model/coordinate_descent.py:491: ConvergenceWarning: Objective did not converge. You might want to increase the number of iterations. Fitting data with very small alpha may cause precision problems.\n",
      "  ConvergenceWarning)\n",
      "/miniconda/lib/python3.6/site-packages/sklearn/linear_model/coordinate_descent.py:491: ConvergenceWarning: Objective did not converge. You might want to increase the number of iterations. Fitting data with very small alpha may cause precision problems.\n",
      "  ConvergenceWarning)\n",
      "/miniconda/lib/python3.6/site-packages/sklearn/pipeline.py:259: UserWarning: With alpha=0, this algorithm does not converge well. You are advised to use the LinearRegression estimator\n",
      "  self._final_estimator.fit(Xt, y, **fit_params)\n",
      "/miniconda/lib/python3.6/site-packages/sklearn/pipeline.py:259: UserWarning: With alpha=0, this algorithm does not converge well. You are advised to use the LinearRegression estimator\n",
      "  self._final_estimator.fit(Xt, y, **fit_params)\n"
     ]
    },
    {
     "name": "stderr",
     "output_type": "stream",
     "text": [
      "/miniconda/lib/python3.6/site-packages/sklearn/pipeline.py:259: UserWarning: With alpha=0, this algorithm does not converge well. You are advised to use the LinearRegression estimator\n",
      "  self._final_estimator.fit(Xt, y, **fit_params)\n",
      "/miniconda/lib/python3.6/site-packages/sklearn/linear_model/coordinate_descent.py:491: ConvergenceWarning: Objective did not converge. You might want to increase the number of iterations. Fitting data with very small alpha may cause precision problems.\n",
      "  ConvergenceWarning)\n",
      "/miniconda/lib/python3.6/site-packages/sklearn/pipeline.py:259: UserWarning: With alpha=0, this algorithm does not converge well. You are advised to use the LinearRegression estimator\n",
      "  self._final_estimator.fit(Xt, y, **fit_params)\n",
      "/miniconda/lib/python3.6/site-packages/sklearn/pipeline.py:259: UserWarning: With alpha=0, this algorithm does not converge well. You are advised to use the LinearRegression estimator\n",
      "  self._final_estimator.fit(Xt, y, **fit_params)\n",
      "/miniconda/lib/python3.6/site-packages/sklearn/linear_model/coordinate_descent.py:477: UserWarning: Coordinate descent with no regularization may lead to unexpected results and is discouraged.\n",
      "  positive)\n",
      "/miniconda/lib/python3.6/site-packages/sklearn/linear_model/coordinate_descent.py:477: UserWarning: Coordinate descent with no regularization may lead to unexpected results and is discouraged.\n",
      "  positive)\n",
      "/miniconda/lib/python3.6/site-packages/sklearn/linear_model/coordinate_descent.py:477: UserWarning: Coordinate descent with no regularization may lead to unexpected results and is discouraged.\n",
      "  positive)\n",
      "/miniconda/lib/python3.6/site-packages/sklearn/pipeline.py:259: UserWarning: With alpha=0, this algorithm does not converge well. You are advised to use the LinearRegression estimator\n",
      "  self._final_estimator.fit(Xt, y, **fit_params)\n",
      "/miniconda/lib/python3.6/site-packages/sklearn/pipeline.py:259: UserWarning: With alpha=0, this algorithm does not converge well. You are advised to use the LinearRegression estimator\n",
      "  self._final_estimator.fit(Xt, y, **fit_params)\n",
      "/miniconda/lib/python3.6/site-packages/sklearn/linear_model/coordinate_descent.py:477: UserWarning: Coordinate descent with no regularization may lead to unexpected results and is discouraged.\n",
      "  positive)\n",
      "/miniconda/lib/python3.6/site-packages/sklearn/linear_model/coordinate_descent.py:477: UserWarning: Coordinate descent with no regularization may lead to unexpected results and is discouraged.\n",
      "  positive)\n",
      "/miniconda/lib/python3.6/site-packages/sklearn/linear_model/coordinate_descent.py:477: UserWarning: Coordinate descent with no regularization may lead to unexpected results and is discouraged.\n",
      "  positive)\n",
      "/miniconda/lib/python3.6/site-packages/sklearn/pipeline.py:259: UserWarning: With alpha=0, this algorithm does not converge well. You are advised to use the LinearRegression estimator\n",
      "  self._final_estimator.fit(Xt, y, **fit_params)\n",
      "/miniconda/lib/python3.6/site-packages/sklearn/linear_model/coordinate_descent.py:491: ConvergenceWarning: Objective did not converge. You might want to increase the number of iterations. Fitting data with very small alpha may cause precision problems.\n",
      "  ConvergenceWarning)\n",
      "/miniconda/lib/python3.6/site-packages/sklearn/pipeline.py:259: UserWarning: With alpha=0, this algorithm does not converge well. You are advised to use the LinearRegression estimator\n",
      "  self._final_estimator.fit(Xt, y, **fit_params)\n",
      "/miniconda/lib/python3.6/site-packages/sklearn/pipeline.py:259: UserWarning: With alpha=0, this algorithm does not converge well. You are advised to use the LinearRegression estimator\n",
      "  self._final_estimator.fit(Xt, y, **fit_params)\n",
      "/miniconda/lib/python3.6/site-packages/sklearn/pipeline.py:259: UserWarning: With alpha=0, this algorithm does not converge well. You are advised to use the LinearRegression estimator\n",
      "  self._final_estimator.fit(Xt, y, **fit_params)\n",
      "/miniconda/lib/python3.6/site-packages/sklearn/linear_model/coordinate_descent.py:477: UserWarning: Coordinate descent with no regularization may lead to unexpected results and is discouraged.\n",
      "  positive)\n",
      "/miniconda/lib/python3.6/site-packages/sklearn/linear_model/coordinate_descent.py:477: UserWarning: Coordinate descent with no regularization may lead to unexpected results and is discouraged.\n",
      "  positive)\n",
      "/miniconda/lib/python3.6/site-packages/sklearn/linear_model/coordinate_descent.py:477: UserWarning: Coordinate descent with no regularization may lead to unexpected results and is discouraged.\n",
      "  positive)\n",
      "/miniconda/lib/python3.6/site-packages/sklearn/linear_model/coordinate_descent.py:491: ConvergenceWarning: Objective did not converge. You might want to increase the number of iterations. Fitting data with very small alpha may cause precision problems.\n",
      "  ConvergenceWarning)\n",
      "/miniconda/lib/python3.6/site-packages/sklearn/linear_model/coordinate_descent.py:477: UserWarning: Coordinate descent with no regularization may lead to unexpected results and is discouraged.\n",
      "  positive)\n",
      "/miniconda/lib/python3.6/site-packages/sklearn/linear_model/coordinate_descent.py:477: UserWarning: Coordinate descent with no regularization may lead to unexpected results and is discouraged.\n",
      "  positive)\n",
      "/miniconda/lib/python3.6/site-packages/sklearn/linear_model/coordinate_descent.py:491: ConvergenceWarning: Objective did not converge. You might want to increase the number of iterations. Fitting data with very small alpha may cause precision problems.\n",
      "  ConvergenceWarning)\n",
      "/miniconda/lib/python3.6/site-packages/sklearn/linear_model/coordinate_descent.py:491: ConvergenceWarning: Objective did not converge. You might want to increase the number of iterations. Fitting data with very small alpha may cause precision problems.\n",
      "  ConvergenceWarning)\n",
      "/miniconda/lib/python3.6/site-packages/sklearn/linear_model/coordinate_descent.py:491: ConvergenceWarning: Objective did not converge. You might want to increase the number of iterations. Fitting data with very small alpha may cause precision problems.\n",
      "  ConvergenceWarning)\n",
      "/miniconda/lib/python3.6/site-packages/sklearn/linear_model/coordinate_descent.py:491: ConvergenceWarning: Objective did not converge. You might want to increase the number of iterations. Fitting data with very small alpha may cause precision problems.\n",
      "  ConvergenceWarning)\n",
      "/miniconda/lib/python3.6/site-packages/sklearn/linear_model/coordinate_descent.py:491: ConvergenceWarning: Objective did not converge. You might want to increase the number of iterations. Fitting data with very small alpha may cause precision problems.\n",
      "  ConvergenceWarning)\n",
      "/miniconda/lib/python3.6/site-packages/sklearn/linear_model/coordinate_descent.py:491: ConvergenceWarning: Objective did not converge. You might want to increase the number of iterations. Fitting data with very small alpha may cause precision problems.\n",
      "  ConvergenceWarning)\n",
      "/miniconda/lib/python3.6/site-packages/sklearn/linear_model/coordinate_descent.py:491: ConvergenceWarning: Objective did not converge. You might want to increase the number of iterations. Fitting data with very small alpha may cause precision problems.\n",
      "  ConvergenceWarning)\n",
      "/miniconda/lib/python3.6/site-packages/sklearn/linear_model/coordinate_descent.py:491: ConvergenceWarning: Objective did not converge. You might want to increase the number of iterations. Fitting data with very small alpha may cause precision problems.\n",
      "  ConvergenceWarning)\n",
      "/miniconda/lib/python3.6/site-packages/sklearn/pipeline.py:259: UserWarning: With alpha=0, this algorithm does not converge well. You are advised to use the LinearRegression estimator\n",
      "  self._final_estimator.fit(Xt, y, **fit_params)\n",
      "/miniconda/lib/python3.6/site-packages/sklearn/linear_model/coordinate_descent.py:491: ConvergenceWarning: Objective did not converge. You might want to increase the number of iterations. Fitting data with very small alpha may cause precision problems.\n",
      "  ConvergenceWarning)\n",
      "/miniconda/lib/python3.6/site-packages/sklearn/linear_model/coordinate_descent.py:477: UserWarning: Coordinate descent with no regularization may lead to unexpected results and is discouraged.\n",
      "  positive)\n",
      "/miniconda/lib/python3.6/site-packages/sklearn/pipeline.py:259: UserWarning: With alpha=0, this algorithm does not converge well. You are advised to use the LinearRegression estimator\n",
      "  self._final_estimator.fit(Xt, y, **fit_params)\n"
     ]
    },
    {
     "name": "stderr",
     "output_type": "stream",
     "text": [
      "/miniconda/lib/python3.6/site-packages/sklearn/linear_model/coordinate_descent.py:477: UserWarning: Coordinate descent with no regularization may lead to unexpected results and is discouraged.\n",
      "  positive)\n",
      "/miniconda/lib/python3.6/site-packages/sklearn/linear_model/coordinate_descent.py:491: ConvergenceWarning: Objective did not converge. You might want to increase the number of iterations. Fitting data with very small alpha may cause precision problems.\n",
      "  ConvergenceWarning)\n",
      "/miniconda/lib/python3.6/site-packages/sklearn/pipeline.py:259: UserWarning: With alpha=0, this algorithm does not converge well. You are advised to use the LinearRegression estimator\n",
      "  self._final_estimator.fit(Xt, y, **fit_params)\n",
      "/miniconda/lib/python3.6/site-packages/sklearn/linear_model/coordinate_descent.py:491: ConvergenceWarning: Objective did not converge. You might want to increase the number of iterations. Fitting data with very small alpha may cause precision problems.\n",
      "  ConvergenceWarning)\n",
      "/miniconda/lib/python3.6/site-packages/sklearn/linear_model/coordinate_descent.py:477: UserWarning: Coordinate descent with no regularization may lead to unexpected results and is discouraged.\n",
      "  positive)\n",
      "/miniconda/lib/python3.6/site-packages/sklearn/pipeline.py:259: UserWarning: With alpha=0, this algorithm does not converge well. You are advised to use the LinearRegression estimator\n",
      "  self._final_estimator.fit(Xt, y, **fit_params)\n",
      "/miniconda/lib/python3.6/site-packages/sklearn/linear_model/coordinate_descent.py:477: UserWarning: Coordinate descent with no regularization may lead to unexpected results and is discouraged.\n",
      "  positive)\n",
      "/miniconda/lib/python3.6/site-packages/sklearn/pipeline.py:259: UserWarning: With alpha=0, this algorithm does not converge well. You are advised to use the LinearRegression estimator\n",
      "  self._final_estimator.fit(Xt, y, **fit_params)\n",
      "/miniconda/lib/python3.6/site-packages/sklearn/linear_model/coordinate_descent.py:477: UserWarning: Coordinate descent with no regularization may lead to unexpected results and is discouraged.\n",
      "  positive)\n",
      "/miniconda/lib/python3.6/site-packages/sklearn/linear_model/coordinate_descent.py:491: ConvergenceWarning: Objective did not converge. You might want to increase the number of iterations. Fitting data with very small alpha may cause precision problems.\n",
      "  ConvergenceWarning)\n",
      "/miniconda/lib/python3.6/site-packages/sklearn/pipeline.py:259: UserWarning: With alpha=0, this algorithm does not converge well. You are advised to use the LinearRegression estimator\n",
      "  self._final_estimator.fit(Xt, y, **fit_params)\n",
      "/miniconda/lib/python3.6/site-packages/sklearn/linear_model/coordinate_descent.py:491: ConvergenceWarning: Objective did not converge. You might want to increase the number of iterations. Fitting data with very small alpha may cause precision problems.\n",
      "  ConvergenceWarning)\n",
      "/miniconda/lib/python3.6/site-packages/sklearn/pipeline.py:259: UserWarning: With alpha=0, this algorithm does not converge well. You are advised to use the LinearRegression estimator\n",
      "  self._final_estimator.fit(Xt, y, **fit_params)\n",
      "/miniconda/lib/python3.6/site-packages/sklearn/linear_model/coordinate_descent.py:477: UserWarning: Coordinate descent with no regularization may lead to unexpected results and is discouraged.\n",
      "  positive)\n",
      "/miniconda/lib/python3.6/site-packages/sklearn/linear_model/coordinate_descent.py:477: UserWarning: Coordinate descent with no regularization may lead to unexpected results and is discouraged.\n",
      "  positive)\n",
      "/miniconda/lib/python3.6/site-packages/sklearn/pipeline.py:259: UserWarning: With alpha=0, this algorithm does not converge well. You are advised to use the LinearRegression estimator\n",
      "  self._final_estimator.fit(Xt, y, **fit_params)\n",
      "/miniconda/lib/python3.6/site-packages/sklearn/linear_model/coordinate_descent.py:477: UserWarning: Coordinate descent with no regularization may lead to unexpected results and is discouraged.\n",
      "  positive)\n",
      "/miniconda/lib/python3.6/site-packages/sklearn/linear_model/coordinate_descent.py:491: ConvergenceWarning: Objective did not converge. You might want to increase the number of iterations. Fitting data with very small alpha may cause precision problems.\n",
      "  ConvergenceWarning)\n",
      "/miniconda/lib/python3.6/site-packages/sklearn/linear_model/coordinate_descent.py:491: ConvergenceWarning: Objective did not converge. You might want to increase the number of iterations. Fitting data with very small alpha may cause precision problems.\n",
      "  ConvergenceWarning)\n",
      "/miniconda/lib/python3.6/site-packages/sklearn/pipeline.py:259: UserWarning: With alpha=0, this algorithm does not converge well. You are advised to use the LinearRegression estimator\n",
      "  self._final_estimator.fit(Xt, y, **fit_params)\n",
      "/miniconda/lib/python3.6/site-packages/sklearn/pipeline.py:259: UserWarning: With alpha=0, this algorithm does not converge well. You are advised to use the LinearRegression estimator\n",
      "  self._final_estimator.fit(Xt, y, **fit_params)\n",
      "/miniconda/lib/python3.6/site-packages/sklearn/pipeline.py:259: UserWarning: With alpha=0, this algorithm does not converge well. You are advised to use the LinearRegression estimator\n",
      "  self._final_estimator.fit(Xt, y, **fit_params)\n",
      "/miniconda/lib/python3.6/site-packages/sklearn/linear_model/coordinate_descent.py:491: ConvergenceWarning: Objective did not converge. You might want to increase the number of iterations. Fitting data with very small alpha may cause precision problems.\n",
      "  ConvergenceWarning)\n",
      "/miniconda/lib/python3.6/site-packages/sklearn/linear_model/coordinate_descent.py:491: ConvergenceWarning: Objective did not converge. You might want to increase the number of iterations. Fitting data with very small alpha may cause precision problems.\n",
      "  ConvergenceWarning)\n",
      "/miniconda/lib/python3.6/site-packages/sklearn/linear_model/coordinate_descent.py:477: UserWarning: Coordinate descent with no regularization may lead to unexpected results and is discouraged.\n",
      "  positive)\n",
      "/miniconda/lib/python3.6/site-packages/sklearn/linear_model/coordinate_descent.py:477: UserWarning: Coordinate descent with no regularization may lead to unexpected results and is discouraged.\n",
      "  positive)\n",
      "/miniconda/lib/python3.6/site-packages/sklearn/linear_model/coordinate_descent.py:477: UserWarning: Coordinate descent with no regularization may lead to unexpected results and is discouraged.\n",
      "  positive)\n",
      "/miniconda/lib/python3.6/site-packages/sklearn/pipeline.py:259: UserWarning: With alpha=0, this algorithm does not converge well. You are advised to use the LinearRegression estimator\n",
      "  self._final_estimator.fit(Xt, y, **fit_params)\n",
      "/miniconda/lib/python3.6/site-packages/sklearn/linear_model/coordinate_descent.py:477: UserWarning: Coordinate descent with no regularization may lead to unexpected results and is discouraged.\n",
      "  positive)\n",
      "/miniconda/lib/python3.6/site-packages/sklearn/pipeline.py:259: UserWarning: With alpha=0, this algorithm does not converge well. You are advised to use the LinearRegression estimator\n",
      "  self._final_estimator.fit(Xt, y, **fit_params)\n",
      "/miniconda/lib/python3.6/site-packages/sklearn/linear_model/coordinate_descent.py:491: ConvergenceWarning: Objective did not converge. You might want to increase the number of iterations. Fitting data with very small alpha may cause precision problems.\n",
      "  ConvergenceWarning)\n",
      "/miniconda/lib/python3.6/site-packages/sklearn/linear_model/coordinate_descent.py:477: UserWarning: Coordinate descent with no regularization may lead to unexpected results and is discouraged.\n",
      "  positive)\n",
      "/miniconda/lib/python3.6/site-packages/sklearn/pipeline.py:259: UserWarning: With alpha=0, this algorithm does not converge well. You are advised to use the LinearRegression estimator\n",
      "  self._final_estimator.fit(Xt, y, **fit_params)\n",
      "/miniconda/lib/python3.6/site-packages/sklearn/linear_model/coordinate_descent.py:491: ConvergenceWarning: Objective did not converge. You might want to increase the number of iterations. Fitting data with very small alpha may cause precision problems.\n",
      "  ConvergenceWarning)\n",
      "/miniconda/lib/python3.6/site-packages/sklearn/linear_model/coordinate_descent.py:477: UserWarning: Coordinate descent with no regularization may lead to unexpected results and is discouraged.\n",
      "  positive)\n"
     ]
    },
    {
     "name": "stderr",
     "output_type": "stream",
     "text": [
      "/miniconda/lib/python3.6/site-packages/sklearn/pipeline.py:259: UserWarning: With alpha=0, this algorithm does not converge well. You are advised to use the LinearRegression estimator\n",
      "  self._final_estimator.fit(Xt, y, **fit_params)\n",
      "/miniconda/lib/python3.6/site-packages/sklearn/linear_model/coordinate_descent.py:491: ConvergenceWarning: Objective did not converge. You might want to increase the number of iterations. Fitting data with very small alpha may cause precision problems.\n",
      "  ConvergenceWarning)\n",
      "/miniconda/lib/python3.6/site-packages/sklearn/linear_model/coordinate_descent.py:491: ConvergenceWarning: Objective did not converge. You might want to increase the number of iterations. Fitting data with very small alpha may cause precision problems.\n",
      "  ConvergenceWarning)\n",
      "/miniconda/lib/python3.6/site-packages/sklearn/pipeline.py:259: UserWarning: With alpha=0, this algorithm does not converge well. You are advised to use the LinearRegression estimator\n",
      "  self._final_estimator.fit(Xt, y, **fit_params)\n",
      "/miniconda/lib/python3.6/site-packages/sklearn/linear_model/coordinate_descent.py:477: UserWarning: Coordinate descent with no regularization may lead to unexpected results and is discouraged.\n",
      "  positive)\n",
      "/miniconda/lib/python3.6/site-packages/sklearn/linear_model/coordinate_descent.py:477: UserWarning: Coordinate descent with no regularization may lead to unexpected results and is discouraged.\n",
      "  positive)\n",
      "/miniconda/lib/python3.6/site-packages/sklearn/pipeline.py:259: UserWarning: With alpha=0, this algorithm does not converge well. You are advised to use the LinearRegression estimator\n",
      "  self._final_estimator.fit(Xt, y, **fit_params)\n",
      "/miniconda/lib/python3.6/site-packages/sklearn/linear_model/coordinate_descent.py:491: ConvergenceWarning: Objective did not converge. You might want to increase the number of iterations. Fitting data with very small alpha may cause precision problems.\n",
      "  ConvergenceWarning)\n",
      "/miniconda/lib/python3.6/site-packages/sklearn/linear_model/coordinate_descent.py:491: ConvergenceWarning: Objective did not converge. You might want to increase the number of iterations. Fitting data with very small alpha may cause precision problems.\n",
      "  ConvergenceWarning)\n",
      "/miniconda/lib/python3.6/site-packages/sklearn/linear_model/coordinate_descent.py:477: UserWarning: Coordinate descent with no regularization may lead to unexpected results and is discouraged.\n",
      "  positive)\n",
      "/miniconda/lib/python3.6/site-packages/sklearn/pipeline.py:259: UserWarning: With alpha=0, this algorithm does not converge well. You are advised to use the LinearRegression estimator\n",
      "  self._final_estimator.fit(Xt, y, **fit_params)\n",
      "/miniconda/lib/python3.6/site-packages/sklearn/pipeline.py:259: UserWarning: With alpha=0, this algorithm does not converge well. You are advised to use the LinearRegression estimator\n",
      "  self._final_estimator.fit(Xt, y, **fit_params)\n",
      "/miniconda/lib/python3.6/site-packages/sklearn/pipeline.py:259: UserWarning: With alpha=0, this algorithm does not converge well. You are advised to use the LinearRegression estimator\n",
      "  self._final_estimator.fit(Xt, y, **fit_params)\n",
      "/miniconda/lib/python3.6/site-packages/sklearn/linear_model/coordinate_descent.py:477: UserWarning: Coordinate descent with no regularization may lead to unexpected results and is discouraged.\n",
      "  positive)\n",
      "/miniconda/lib/python3.6/site-packages/sklearn/linear_model/coordinate_descent.py:491: ConvergenceWarning: Objective did not converge. You might want to increase the number of iterations. Fitting data with very small alpha may cause precision problems.\n",
      "  ConvergenceWarning)\n",
      "/miniconda/lib/python3.6/site-packages/sklearn/linear_model/coordinate_descent.py:477: UserWarning: Coordinate descent with no regularization may lead to unexpected results and is discouraged.\n",
      "  positive)\n",
      "/miniconda/lib/python3.6/site-packages/sklearn/linear_model/coordinate_descent.py:477: UserWarning: Coordinate descent with no regularization may lead to unexpected results and is discouraged.\n",
      "  positive)\n",
      "/miniconda/lib/python3.6/site-packages/sklearn/linear_model/coordinate_descent.py:491: ConvergenceWarning: Objective did not converge. You might want to increase the number of iterations. Fitting data with very small alpha may cause precision problems.\n",
      "  ConvergenceWarning)\n",
      "/miniconda/lib/python3.6/site-packages/sklearn/pipeline.py:259: UserWarning: With alpha=0, this algorithm does not converge well. You are advised to use the LinearRegression estimator\n",
      "  self._final_estimator.fit(Xt, y, **fit_params)\n",
      "/miniconda/lib/python3.6/site-packages/sklearn/linear_model/coordinate_descent.py:491: ConvergenceWarning: Objective did not converge. You might want to increase the number of iterations. Fitting data with very small alpha may cause precision problems.\n",
      "  ConvergenceWarning)\n",
      "/miniconda/lib/python3.6/site-packages/sklearn/linear_model/coordinate_descent.py:491: ConvergenceWarning: Objective did not converge. You might want to increase the number of iterations. Fitting data with very small alpha may cause precision problems.\n",
      "  ConvergenceWarning)\n",
      "/miniconda/lib/python3.6/site-packages/sklearn/linear_model/coordinate_descent.py:477: UserWarning: Coordinate descent with no regularization may lead to unexpected results and is discouraged.\n",
      "  positive)\n",
      "/miniconda/lib/python3.6/site-packages/sklearn/pipeline.py:259: UserWarning: With alpha=0, this algorithm does not converge well. You are advised to use the LinearRegression estimator\n",
      "  self._final_estimator.fit(Xt, y, **fit_params)\n",
      "/miniconda/lib/python3.6/site-packages/sklearn/linear_model/coordinate_descent.py:491: ConvergenceWarning: Objective did not converge. You might want to increase the number of iterations. Fitting data with very small alpha may cause precision problems.\n",
      "  ConvergenceWarning)\n",
      "/miniconda/lib/python3.6/site-packages/sklearn/linear_model/coordinate_descent.py:491: ConvergenceWarning: Objective did not converge. You might want to increase the number of iterations. Fitting data with very small alpha may cause precision problems.\n",
      "  ConvergenceWarning)\n",
      "/miniconda/lib/python3.6/site-packages/sklearn/linear_model/coordinate_descent.py:491: ConvergenceWarning: Objective did not converge. You might want to increase the number of iterations. Fitting data with very small alpha may cause precision problems.\n",
      "  ConvergenceWarning)\n",
      "/miniconda/lib/python3.6/site-packages/sklearn/linear_model/coordinate_descent.py:477: UserWarning: Coordinate descent with no regularization may lead to unexpected results and is discouraged.\n",
      "  positive)\n",
      "/miniconda/lib/python3.6/site-packages/sklearn/pipeline.py:259: UserWarning: With alpha=0, this algorithm does not converge well. You are advised to use the LinearRegression estimator\n",
      "  self._final_estimator.fit(Xt, y, **fit_params)\n",
      "/miniconda/lib/python3.6/site-packages/sklearn/pipeline.py:259: UserWarning: With alpha=0, this algorithm does not converge well. You are advised to use the LinearRegression estimator\n",
      "  self._final_estimator.fit(Xt, y, **fit_params)\n",
      "/miniconda/lib/python3.6/site-packages/sklearn/linear_model/coordinate_descent.py:477: UserWarning: Coordinate descent with no regularization may lead to unexpected results and is discouraged.\n",
      "  positive)\n",
      "/miniconda/lib/python3.6/site-packages/sklearn/pipeline.py:259: UserWarning: With alpha=0, this algorithm does not converge well. You are advised to use the LinearRegression estimator\n",
      "  self._final_estimator.fit(Xt, y, **fit_params)\n",
      "/miniconda/lib/python3.6/site-packages/sklearn/linear_model/coordinate_descent.py:491: ConvergenceWarning: Objective did not converge. You might want to increase the number of iterations. Fitting data with very small alpha may cause precision problems.\n",
      "  ConvergenceWarning)\n",
      "/miniconda/lib/python3.6/site-packages/sklearn/linear_model/coordinate_descent.py:477: UserWarning: Coordinate descent with no regularization may lead to unexpected results and is discouraged.\n",
      "  positive)\n",
      "/miniconda/lib/python3.6/site-packages/sklearn/linear_model/coordinate_descent.py:491: ConvergenceWarning: Objective did not converge. You might want to increase the number of iterations. Fitting data with very small alpha may cause precision problems.\n",
      "  ConvergenceWarning)\n",
      "/miniconda/lib/python3.6/site-packages/sklearn/pipeline.py:259: UserWarning: With alpha=0, this algorithm does not converge well. You are advised to use the LinearRegression estimator\n",
      "  self._final_estimator.fit(Xt, y, **fit_params)\n"
     ]
    },
    {
     "name": "stderr",
     "output_type": "stream",
     "text": [
      "/miniconda/lib/python3.6/site-packages/sklearn/linear_model/coordinate_descent.py:477: UserWarning: Coordinate descent with no regularization may lead to unexpected results and is discouraged.\n",
      "  positive)\n",
      "/miniconda/lib/python3.6/site-packages/sklearn/linear_model/coordinate_descent.py:477: UserWarning: Coordinate descent with no regularization may lead to unexpected results and is discouraged.\n",
      "  positive)\n",
      "/miniconda/lib/python3.6/site-packages/sklearn/linear_model/coordinate_descent.py:491: ConvergenceWarning: Objective did not converge. You might want to increase the number of iterations. Fitting data with very small alpha may cause precision problems.\n",
      "  ConvergenceWarning)\n",
      "/miniconda/lib/python3.6/site-packages/sklearn/pipeline.py:259: UserWarning: With alpha=0, this algorithm does not converge well. You are advised to use the LinearRegression estimator\n",
      "  self._final_estimator.fit(Xt, y, **fit_params)\n",
      "/miniconda/lib/python3.6/site-packages/sklearn/pipeline.py:259: UserWarning: With alpha=0, this algorithm does not converge well. You are advised to use the LinearRegression estimator\n",
      "  self._final_estimator.fit(Xt, y, **fit_params)\n",
      "/miniconda/lib/python3.6/site-packages/sklearn/linear_model/coordinate_descent.py:491: ConvergenceWarning: Objective did not converge. You might want to increase the number of iterations. Fitting data with very small alpha may cause precision problems.\n",
      "  ConvergenceWarning)\n",
      "/miniconda/lib/python3.6/site-packages/sklearn/linear_model/coordinate_descent.py:491: ConvergenceWarning: Objective did not converge. You might want to increase the number of iterations. Fitting data with very small alpha may cause precision problems.\n",
      "  ConvergenceWarning)\n",
      "/miniconda/lib/python3.6/site-packages/sklearn/linear_model/coordinate_descent.py:491: ConvergenceWarning: Objective did not converge. You might want to increase the number of iterations. Fitting data with very small alpha may cause precision problems.\n",
      "  ConvergenceWarning)\n",
      "/miniconda/lib/python3.6/site-packages/sklearn/linear_model/coordinate_descent.py:491: ConvergenceWarning: Objective did not converge. You might want to increase the number of iterations. Fitting data with very small alpha may cause precision problems.\n",
      "  ConvergenceWarning)\n",
      "/miniconda/lib/python3.6/site-packages/sklearn/linear_model/coordinate_descent.py:491: ConvergenceWarning: Objective did not converge. You might want to increase the number of iterations. Fitting data with very small alpha may cause precision problems.\n",
      "  ConvergenceWarning)\n",
      "/miniconda/lib/python3.6/site-packages/sklearn/linear_model/coordinate_descent.py:477: UserWarning: Coordinate descent with no regularization may lead to unexpected results and is discouraged.\n",
      "  positive)\n",
      "/miniconda/lib/python3.6/site-packages/sklearn/linear_model/coordinate_descent.py:477: UserWarning: Coordinate descent with no regularization may lead to unexpected results and is discouraged.\n",
      "  positive)\n",
      "/miniconda/lib/python3.6/site-packages/sklearn/pipeline.py:259: UserWarning: With alpha=0, this algorithm does not converge well. You are advised to use the LinearRegression estimator\n",
      "  self._final_estimator.fit(Xt, y, **fit_params)\n",
      "/miniconda/lib/python3.6/site-packages/sklearn/pipeline.py:259: UserWarning: With alpha=0, this algorithm does not converge well. You are advised to use the LinearRegression estimator\n",
      "  self._final_estimator.fit(Xt, y, **fit_params)\n",
      "/miniconda/lib/python3.6/site-packages/sklearn/linear_model/coordinate_descent.py:491: ConvergenceWarning: Objective did not converge. You might want to increase the number of iterations. Fitting data with very small alpha may cause precision problems.\n",
      "  ConvergenceWarning)\n",
      "/miniconda/lib/python3.6/site-packages/sklearn/pipeline.py:259: UserWarning: With alpha=0, this algorithm does not converge well. You are advised to use the LinearRegression estimator\n",
      "  self._final_estimator.fit(Xt, y, **fit_params)\n",
      "/miniconda/lib/python3.6/site-packages/sklearn/linear_model/coordinate_descent.py:477: UserWarning: Coordinate descent with no regularization may lead to unexpected results and is discouraged.\n",
      "  positive)\n",
      "/miniconda/lib/python3.6/site-packages/sklearn/linear_model/coordinate_descent.py:477: UserWarning: Coordinate descent with no regularization may lead to unexpected results and is discouraged.\n",
      "  positive)\n",
      "/miniconda/lib/python3.6/site-packages/sklearn/linear_model/coordinate_descent.py:477: UserWarning: Coordinate descent with no regularization may lead to unexpected results and is discouraged.\n",
      "  positive)\n",
      "/miniconda/lib/python3.6/site-packages/sklearn/linear_model/coordinate_descent.py:491: ConvergenceWarning: Objective did not converge. You might want to increase the number of iterations. Fitting data with very small alpha may cause precision problems.\n",
      "  ConvergenceWarning)\n",
      "/miniconda/lib/python3.6/site-packages/sklearn/linear_model/coordinate_descent.py:491: ConvergenceWarning: Objective did not converge. You might want to increase the number of iterations. Fitting data with very small alpha may cause precision problems.\n",
      "  ConvergenceWarning)\n",
      "/miniconda/lib/python3.6/site-packages/sklearn/linear_model/coordinate_descent.py:491: ConvergenceWarning: Objective did not converge. You might want to increase the number of iterations. Fitting data with very small alpha may cause precision problems.\n",
      "  ConvergenceWarning)\n",
      "/miniconda/lib/python3.6/site-packages/sklearn/linear_model/coordinate_descent.py:491: ConvergenceWarning: Objective did not converge. You might want to increase the number of iterations. Fitting data with very small alpha may cause precision problems.\n",
      "  ConvergenceWarning)\n",
      "/miniconda/lib/python3.6/site-packages/sklearn/linear_model/coordinate_descent.py:491: ConvergenceWarning: Objective did not converge. You might want to increase the number of iterations. Fitting data with very small alpha may cause precision problems.\n",
      "  ConvergenceWarning)\n",
      "/miniconda/lib/python3.6/site-packages/sklearn/linear_model/coordinate_descent.py:491: ConvergenceWarning: Objective did not converge. You might want to increase the number of iterations. Fitting data with very small alpha may cause precision problems.\n",
      "  ConvergenceWarning)\n",
      "/miniconda/lib/python3.6/site-packages/sklearn/linear_model/coordinate_descent.py:491: ConvergenceWarning: Objective did not converge. You might want to increase the number of iterations. Fitting data with very small alpha may cause precision problems.\n",
      "  ConvergenceWarning)\n",
      "/miniconda/lib/python3.6/site-packages/sklearn/pipeline.py:259: UserWarning: With alpha=0, this algorithm does not converge well. You are advised to use the LinearRegression estimator\n",
      "  self._final_estimator.fit(Xt, y, **fit_params)\n",
      "/miniconda/lib/python3.6/site-packages/sklearn/linear_model/coordinate_descent.py:477: UserWarning: Coordinate descent with no regularization may lead to unexpected results and is discouraged.\n",
      "  positive)\n",
      "/miniconda/lib/python3.6/site-packages/sklearn/pipeline.py:259: UserWarning: With alpha=0, this algorithm does not converge well. You are advised to use the LinearRegression estimator\n",
      "  self._final_estimator.fit(Xt, y, **fit_params)\n",
      "/miniconda/lib/python3.6/site-packages/sklearn/pipeline.py:259: UserWarning: With alpha=0, this algorithm does not converge well. You are advised to use the LinearRegression estimator\n",
      "  self._final_estimator.fit(Xt, y, **fit_params)\n",
      "/miniconda/lib/python3.6/site-packages/sklearn/pipeline.py:259: UserWarning: With alpha=0, this algorithm does not converge well. You are advised to use the LinearRegression estimator\n",
      "  self._final_estimator.fit(Xt, y, **fit_params)\n",
      "/miniconda/lib/python3.6/site-packages/sklearn/linear_model/coordinate_descent.py:477: UserWarning: Coordinate descent with no regularization may lead to unexpected results and is discouraged.\n",
      "  positive)\n",
      "/miniconda/lib/python3.6/site-packages/sklearn/linear_model/coordinate_descent.py:477: UserWarning: Coordinate descent with no regularization may lead to unexpected results and is discouraged.\n",
      "  positive)\n",
      "/miniconda/lib/python3.6/site-packages/sklearn/linear_model/coordinate_descent.py:477: UserWarning: Coordinate descent with no regularization may lead to unexpected results and is discouraged.\n",
      "  positive)\n"
     ]
    },
    {
     "name": "stderr",
     "output_type": "stream",
     "text": [
      "/miniconda/lib/python3.6/site-packages/sklearn/linear_model/coordinate_descent.py:491: ConvergenceWarning: Objective did not converge. You might want to increase the number of iterations. Fitting data with very small alpha may cause precision problems.\n",
      "  ConvergenceWarning)\n",
      "/miniconda/lib/python3.6/site-packages/sklearn/linear_model/coordinate_descent.py:491: ConvergenceWarning: Objective did not converge. You might want to increase the number of iterations. Fitting data with very small alpha may cause precision problems.\n",
      "  ConvergenceWarning)\n",
      "/miniconda/lib/python3.6/site-packages/sklearn/pipeline.py:259: UserWarning: With alpha=0, this algorithm does not converge well. You are advised to use the LinearRegression estimator\n",
      "  self._final_estimator.fit(Xt, y, **fit_params)\n",
      "/miniconda/lib/python3.6/site-packages/sklearn/linear_model/coordinate_descent.py:491: ConvergenceWarning: Objective did not converge. You might want to increase the number of iterations. Fitting data with very small alpha may cause precision problems.\n",
      "  ConvergenceWarning)\n",
      "/miniconda/lib/python3.6/site-packages/sklearn/linear_model/coordinate_descent.py:491: ConvergenceWarning: Objective did not converge. You might want to increase the number of iterations. Fitting data with very small alpha may cause precision problems.\n",
      "  ConvergenceWarning)\n",
      "/miniconda/lib/python3.6/site-packages/sklearn/linear_model/coordinate_descent.py:477: UserWarning: Coordinate descent with no regularization may lead to unexpected results and is discouraged.\n",
      "  positive)\n",
      "/miniconda/lib/python3.6/site-packages/sklearn/pipeline.py:259: UserWarning: With alpha=0, this algorithm does not converge well. You are advised to use the LinearRegression estimator\n",
      "  self._final_estimator.fit(Xt, y, **fit_params)\n",
      "/miniconda/lib/python3.6/site-packages/sklearn/pipeline.py:259: UserWarning: With alpha=0, this algorithm does not converge well. You are advised to use the LinearRegression estimator\n",
      "  self._final_estimator.fit(Xt, y, **fit_params)\n",
      "/miniconda/lib/python3.6/site-packages/sklearn/linear_model/coordinate_descent.py:477: UserWarning: Coordinate descent with no regularization may lead to unexpected results and is discouraged.\n",
      "  positive)\n",
      "/miniconda/lib/python3.6/site-packages/sklearn/linear_model/coordinate_descent.py:491: ConvergenceWarning: Objective did not converge. You might want to increase the number of iterations. Fitting data with very small alpha may cause precision problems.\n",
      "  ConvergenceWarning)\n",
      "/miniconda/lib/python3.6/site-packages/sklearn/linear_model/coordinate_descent.py:477: UserWarning: Coordinate descent with no regularization may lead to unexpected results and is discouraged.\n",
      "  positive)\n",
      "/miniconda/lib/python3.6/site-packages/sklearn/linear_model/coordinate_descent.py:491: ConvergenceWarning: Objective did not converge. You might want to increase the number of iterations. Fitting data with very small alpha may cause precision problems.\n",
      "  ConvergenceWarning)\n",
      "/miniconda/lib/python3.6/site-packages/sklearn/pipeline.py:259: UserWarning: With alpha=0, this algorithm does not converge well. You are advised to use the LinearRegression estimator\n",
      "  self._final_estimator.fit(Xt, y, **fit_params)\n",
      "/miniconda/lib/python3.6/site-packages/sklearn/linear_model/coordinate_descent.py:491: ConvergenceWarning: Objective did not converge. You might want to increase the number of iterations. Fitting data with very small alpha may cause precision problems.\n",
      "  ConvergenceWarning)\n",
      "/miniconda/lib/python3.6/site-packages/sklearn/linear_model/coordinate_descent.py:477: UserWarning: Coordinate descent with no regularization may lead to unexpected results and is discouraged.\n",
      "  positive)\n",
      "/miniconda/lib/python3.6/site-packages/sklearn/linear_model/coordinate_descent.py:491: ConvergenceWarning: Objective did not converge. You might want to increase the number of iterations. Fitting data with very small alpha may cause precision problems.\n",
      "  ConvergenceWarning)\n",
      "/miniconda/lib/python3.6/site-packages/sklearn/linear_model/coordinate_descent.py:491: ConvergenceWarning: Objective did not converge. You might want to increase the number of iterations. Fitting data with very small alpha may cause precision problems.\n",
      "  ConvergenceWarning)\n",
      "/miniconda/lib/python3.6/site-packages/sklearn/pipeline.py:259: UserWarning: With alpha=0, this algorithm does not converge well. You are advised to use the LinearRegression estimator\n",
      "  self._final_estimator.fit(Xt, y, **fit_params)\n",
      "/miniconda/lib/python3.6/site-packages/sklearn/linear_model/coordinate_descent.py:491: ConvergenceWarning: Objective did not converge. You might want to increase the number of iterations. Fitting data with very small alpha may cause precision problems.\n",
      "  ConvergenceWarning)\n",
      "/miniconda/lib/python3.6/site-packages/sklearn/pipeline.py:259: UserWarning: With alpha=0, this algorithm does not converge well. You are advised to use the LinearRegression estimator\n",
      "  self._final_estimator.fit(Xt, y, **fit_params)\n",
      "/miniconda/lib/python3.6/site-packages/sklearn/linear_model/coordinate_descent.py:491: ConvergenceWarning: Objective did not converge. You might want to increase the number of iterations. Fitting data with very small alpha may cause precision problems.\n",
      "  ConvergenceWarning)\n",
      "/miniconda/lib/python3.6/site-packages/sklearn/pipeline.py:259: UserWarning: With alpha=0, this algorithm does not converge well. You are advised to use the LinearRegression estimator\n",
      "  self._final_estimator.fit(Xt, y, **fit_params)\n",
      "/miniconda/lib/python3.6/site-packages/sklearn/linear_model/coordinate_descent.py:477: UserWarning: Coordinate descent with no regularization may lead to unexpected results and is discouraged.\n",
      "  positive)\n",
      "/miniconda/lib/python3.6/site-packages/sklearn/pipeline.py:259: UserWarning: With alpha=0, this algorithm does not converge well. You are advised to use the LinearRegression estimator\n",
      "  self._final_estimator.fit(Xt, y, **fit_params)\n",
      "/miniconda/lib/python3.6/site-packages/sklearn/linear_model/coordinate_descent.py:491: ConvergenceWarning: Objective did not converge. You might want to increase the number of iterations. Fitting data with very small alpha may cause precision problems.\n",
      "  ConvergenceWarning)\n",
      "/miniconda/lib/python3.6/site-packages/sklearn/pipeline.py:259: UserWarning: With alpha=0, this algorithm does not converge well. You are advised to use the LinearRegression estimator\n",
      "  self._final_estimator.fit(Xt, y, **fit_params)\n",
      "/miniconda/lib/python3.6/site-packages/sklearn/linear_model/coordinate_descent.py:491: ConvergenceWarning: Objective did not converge. You might want to increase the number of iterations. Fitting data with very small alpha may cause precision problems.\n",
      "  ConvergenceWarning)\n",
      "/miniconda/lib/python3.6/site-packages/sklearn/linear_model/coordinate_descent.py:477: UserWarning: Coordinate descent with no regularization may lead to unexpected results and is discouraged.\n",
      "  positive)\n",
      "/miniconda/lib/python3.6/site-packages/sklearn/linear_model/coordinate_descent.py:477: UserWarning: Coordinate descent with no regularization may lead to unexpected results and is discouraged.\n",
      "  positive)\n",
      "/miniconda/lib/python3.6/site-packages/sklearn/linear_model/coordinate_descent.py:477: UserWarning: Coordinate descent with no regularization may lead to unexpected results and is discouraged.\n",
      "  positive)\n",
      "/miniconda/lib/python3.6/site-packages/sklearn/linear_model/coordinate_descent.py:491: ConvergenceWarning: Objective did not converge. You might want to increase the number of iterations. Fitting data with very small alpha may cause precision problems.\n",
      "  ConvergenceWarning)\n",
      "/miniconda/lib/python3.6/site-packages/sklearn/linear_model/coordinate_descent.py:491: ConvergenceWarning: Objective did not converge. You might want to increase the number of iterations. Fitting data with very small alpha may cause precision problems.\n",
      "  ConvergenceWarning)\n",
      "/miniconda/lib/python3.6/site-packages/sklearn/linear_model/coordinate_descent.py:477: UserWarning: Coordinate descent with no regularization may lead to unexpected results and is discouraged.\n",
      "  positive)\n",
      "/miniconda/lib/python3.6/site-packages/sklearn/linear_model/coordinate_descent.py:491: ConvergenceWarning: Objective did not converge. You might want to increase the number of iterations. Fitting data with very small alpha may cause precision problems.\n",
      "  ConvergenceWarning)\n"
     ]
    },
    {
     "name": "stderr",
     "output_type": "stream",
     "text": [
      "/miniconda/lib/python3.6/site-packages/sklearn/linear_model/coordinate_descent.py:491: ConvergenceWarning: Objective did not converge. You might want to increase the number of iterations. Fitting data with very small alpha may cause precision problems.\n",
      "  ConvergenceWarning)\n",
      "/miniconda/lib/python3.6/site-packages/sklearn/linear_model/coordinate_descent.py:491: ConvergenceWarning: Objective did not converge. You might want to increase the number of iterations. Fitting data with very small alpha may cause precision problems.\n",
      "  ConvergenceWarning)\n",
      "/miniconda/lib/python3.6/site-packages/sklearn/pipeline.py:259: UserWarning: With alpha=0, this algorithm does not converge well. You are advised to use the LinearRegression estimator\n",
      "  self._final_estimator.fit(Xt, y, **fit_params)\n",
      "/miniconda/lib/python3.6/site-packages/sklearn/linear_model/coordinate_descent.py:491: ConvergenceWarning: Objective did not converge. You might want to increase the number of iterations. Fitting data with very small alpha may cause precision problems.\n",
      "  ConvergenceWarning)\n",
      "/miniconda/lib/python3.6/site-packages/sklearn/linear_model/coordinate_descent.py:491: ConvergenceWarning: Objective did not converge. You might want to increase the number of iterations. Fitting data with very small alpha may cause precision problems.\n",
      "  ConvergenceWarning)\n",
      "/miniconda/lib/python3.6/site-packages/sklearn/linear_model/coordinate_descent.py:491: ConvergenceWarning: Objective did not converge. You might want to increase the number of iterations. Fitting data with very small alpha may cause precision problems.\n",
      "  ConvergenceWarning)\n",
      "/miniconda/lib/python3.6/site-packages/sklearn/linear_model/coordinate_descent.py:491: ConvergenceWarning: Objective did not converge. You might want to increase the number of iterations. Fitting data with very small alpha may cause precision problems.\n",
      "  ConvergenceWarning)\n",
      "/miniconda/lib/python3.6/site-packages/sklearn/linear_model/coordinate_descent.py:491: ConvergenceWarning: Objective did not converge. You might want to increase the number of iterations. Fitting data with very small alpha may cause precision problems.\n",
      "  ConvergenceWarning)\n",
      "/miniconda/lib/python3.6/site-packages/sklearn/pipeline.py:259: UserWarning: With alpha=0, this algorithm does not converge well. You are advised to use the LinearRegression estimator\n",
      "  self._final_estimator.fit(Xt, y, **fit_params)\n",
      "/miniconda/lib/python3.6/site-packages/sklearn/pipeline.py:259: UserWarning: With alpha=0, this algorithm does not converge well. You are advised to use the LinearRegression estimator\n",
      "  self._final_estimator.fit(Xt, y, **fit_params)\n",
      "/miniconda/lib/python3.6/site-packages/sklearn/linear_model/coordinate_descent.py:477: UserWarning: Coordinate descent with no regularization may lead to unexpected results and is discouraged.\n",
      "  positive)\n",
      "/miniconda/lib/python3.6/site-packages/sklearn/linear_model/coordinate_descent.py:477: UserWarning: Coordinate descent with no regularization may lead to unexpected results and is discouraged.\n",
      "  positive)\n",
      "/miniconda/lib/python3.6/site-packages/sklearn/linear_model/coordinate_descent.py:491: ConvergenceWarning: Objective did not converge. You might want to increase the number of iterations. Fitting data with very small alpha may cause precision problems.\n",
      "  ConvergenceWarning)\n",
      "/miniconda/lib/python3.6/site-packages/sklearn/pipeline.py:259: UserWarning: With alpha=0, this algorithm does not converge well. You are advised to use the LinearRegression estimator\n",
      "  self._final_estimator.fit(Xt, y, **fit_params)\n",
      "/miniconda/lib/python3.6/site-packages/sklearn/linear_model/coordinate_descent.py:491: ConvergenceWarning: Objective did not converge. You might want to increase the number of iterations. Fitting data with very small alpha may cause precision problems.\n",
      "  ConvergenceWarning)\n",
      "/miniconda/lib/python3.6/site-packages/sklearn/linear_model/coordinate_descent.py:477: UserWarning: Coordinate descent with no regularization may lead to unexpected results and is discouraged.\n",
      "  positive)\n",
      "/miniconda/lib/python3.6/site-packages/sklearn/linear_model/coordinate_descent.py:491: ConvergenceWarning: Objective did not converge. You might want to increase the number of iterations. Fitting data with very small alpha may cause precision problems.\n",
      "  ConvergenceWarning)\n",
      "/miniconda/lib/python3.6/site-packages/sklearn/linear_model/coordinate_descent.py:477: UserWarning: Coordinate descent with no regularization may lead to unexpected results and is discouraged.\n",
      "  positive)\n",
      "/miniconda/lib/python3.6/site-packages/sklearn/linear_model/coordinate_descent.py:491: ConvergenceWarning: Objective did not converge. You might want to increase the number of iterations. Fitting data with very small alpha may cause precision problems.\n",
      "  ConvergenceWarning)\n",
      "/miniconda/lib/python3.6/site-packages/sklearn/linear_model/coordinate_descent.py:491: ConvergenceWarning: Objective did not converge. You might want to increase the number of iterations. Fitting data with very small alpha may cause precision problems.\n",
      "  ConvergenceWarning)\n",
      "/miniconda/lib/python3.6/site-packages/sklearn/pipeline.py:259: UserWarning: With alpha=0, this algorithm does not converge well. You are advised to use the LinearRegression estimator\n",
      "  self._final_estimator.fit(Xt, y, **fit_params)\n",
      "/miniconda/lib/python3.6/site-packages/sklearn/linear_model/coordinate_descent.py:491: ConvergenceWarning: Objective did not converge. You might want to increase the number of iterations. Fitting data with very small alpha may cause precision problems.\n",
      "  ConvergenceWarning)\n",
      "/miniconda/lib/python3.6/site-packages/sklearn/pipeline.py:259: UserWarning: With alpha=0, this algorithm does not converge well. You are advised to use the LinearRegression estimator\n",
      "  self._final_estimator.fit(Xt, y, **fit_params)\n",
      "/miniconda/lib/python3.6/site-packages/sklearn/linear_model/coordinate_descent.py:477: UserWarning: Coordinate descent with no regularization may lead to unexpected results and is discouraged.\n",
      "  positive)\n",
      "/miniconda/lib/python3.6/site-packages/sklearn/linear_model/coordinate_descent.py:491: ConvergenceWarning: Objective did not converge. You might want to increase the number of iterations. Fitting data with very small alpha may cause precision problems.\n",
      "  ConvergenceWarning)\n",
      "/miniconda/lib/python3.6/site-packages/sklearn/linear_model/coordinate_descent.py:477: UserWarning: Coordinate descent with no regularization may lead to unexpected results and is discouraged.\n",
      "  positive)\n",
      "/miniconda/lib/python3.6/site-packages/sklearn/linear_model/coordinate_descent.py:491: ConvergenceWarning: Objective did not converge. You might want to increase the number of iterations. Fitting data with very small alpha may cause precision problems.\n",
      "  ConvergenceWarning)\n",
      "/miniconda/lib/python3.6/site-packages/sklearn/linear_model/coordinate_descent.py:491: ConvergenceWarning: Objective did not converge. You might want to increase the number of iterations. Fitting data with very small alpha may cause precision problems.\n",
      "  ConvergenceWarning)\n",
      "/miniconda/lib/python3.6/site-packages/sklearn/linear_model/coordinate_descent.py:491: ConvergenceWarning: Objective did not converge. You might want to increase the number of iterations. Fitting data with very small alpha may cause precision problems.\n",
      "  ConvergenceWarning)\n",
      "/miniconda/lib/python3.6/site-packages/sklearn/linear_model/coordinate_descent.py:491: ConvergenceWarning: Objective did not converge. You might want to increase the number of iterations. Fitting data with very small alpha may cause precision problems.\n",
      "  ConvergenceWarning)\n",
      "/miniconda/lib/python3.6/site-packages/sklearn/linear_model/coordinate_descent.py:491: ConvergenceWarning: Objective did not converge. You might want to increase the number of iterations. Fitting data with very small alpha may cause precision problems.\n",
      "  ConvergenceWarning)\n",
      "/miniconda/lib/python3.6/site-packages/sklearn/linear_model/coordinate_descent.py:491: ConvergenceWarning: Objective did not converge. You might want to increase the number of iterations. Fitting data with very small alpha may cause precision problems.\n",
      "  ConvergenceWarning)\n",
      "/miniconda/lib/python3.6/site-packages/sklearn/pipeline.py:259: UserWarning: With alpha=0, this algorithm does not converge well. You are advised to use the LinearRegression estimator\n",
      "  self._final_estimator.fit(Xt, y, **fit_params)\n"
     ]
    },
    {
     "name": "stderr",
     "output_type": "stream",
     "text": [
      "/miniconda/lib/python3.6/site-packages/sklearn/linear_model/coordinate_descent.py:491: ConvergenceWarning: Objective did not converge. You might want to increase the number of iterations. Fitting data with very small alpha may cause precision problems.\n",
      "  ConvergenceWarning)\n",
      "/miniconda/lib/python3.6/site-packages/sklearn/pipeline.py:259: UserWarning: With alpha=0, this algorithm does not converge well. You are advised to use the LinearRegression estimator\n",
      "  self._final_estimator.fit(Xt, y, **fit_params)\n",
      "/miniconda/lib/python3.6/site-packages/sklearn/linear_model/coordinate_descent.py:491: ConvergenceWarning: Objective did not converge. You might want to increase the number of iterations. Fitting data with very small alpha may cause precision problems.\n",
      "  ConvergenceWarning)\n",
      "/miniconda/lib/python3.6/site-packages/sklearn/pipeline.py:259: UserWarning: With alpha=0, this algorithm does not converge well. You are advised to use the LinearRegression estimator\n",
      "  self._final_estimator.fit(Xt, y, **fit_params)\n",
      "/miniconda/lib/python3.6/site-packages/sklearn/linear_model/coordinate_descent.py:477: UserWarning: Coordinate descent with no regularization may lead to unexpected results and is discouraged.\n",
      "  positive)\n",
      "/miniconda/lib/python3.6/site-packages/sklearn/pipeline.py:259: UserWarning: With alpha=0, this algorithm does not converge well. You are advised to use the LinearRegression estimator\n",
      "  self._final_estimator.fit(Xt, y, **fit_params)\n",
      "[Parallel(n_jobs=20)]: Done  16 tasks      | elapsed:    0.2s\n",
      "/miniconda/lib/python3.6/site-packages/sklearn/linear_model/coordinate_descent.py:477: UserWarning: Coordinate descent with no regularization may lead to unexpected results and is discouraged.\n",
      "  positive)\n",
      "/miniconda/lib/python3.6/site-packages/sklearn/linear_model/coordinate_descent.py:491: ConvergenceWarning: Objective did not converge. You might want to increase the number of iterations. Fitting data with very small alpha may cause precision problems.\n",
      "  ConvergenceWarning)\n",
      "/miniconda/lib/python3.6/site-packages/sklearn/linear_model/coordinate_descent.py:491: ConvergenceWarning: Objective did not converge. You might want to increase the number of iterations. Fitting data with very small alpha may cause precision problems.\n",
      "  ConvergenceWarning)\n",
      "/miniconda/lib/python3.6/site-packages/sklearn/linear_model/coordinate_descent.py:491: ConvergenceWarning: Objective did not converge. You might want to increase the number of iterations. Fitting data with very small alpha may cause precision problems.\n",
      "  ConvergenceWarning)\n",
      "/miniconda/lib/python3.6/site-packages/sklearn/linear_model/coordinate_descent.py:491: ConvergenceWarning: Objective did not converge. You might want to increase the number of iterations. Fitting data with very small alpha may cause precision problems.\n",
      "  ConvergenceWarning)\n",
      "/miniconda/lib/python3.6/site-packages/sklearn/linear_model/coordinate_descent.py:477: UserWarning: Coordinate descent with no regularization may lead to unexpected results and is discouraged.\n",
      "  positive)\n",
      "/miniconda/lib/python3.6/site-packages/sklearn/pipeline.py:259: UserWarning: With alpha=0, this algorithm does not converge well. You are advised to use the LinearRegression estimator\n",
      "  self._final_estimator.fit(Xt, y, **fit_params)\n",
      "/miniconda/lib/python3.6/site-packages/sklearn/linear_model/coordinate_descent.py:491: ConvergenceWarning: Objective did not converge. You might want to increase the number of iterations. Fitting data with very small alpha may cause precision problems.\n",
      "  ConvergenceWarning)\n",
      "/miniconda/lib/python3.6/site-packages/sklearn/linear_model/coordinate_descent.py:477: UserWarning: Coordinate descent with no regularization may lead to unexpected results and is discouraged.\n",
      "  positive)\n",
      "/miniconda/lib/python3.6/site-packages/sklearn/linear_model/coordinate_descent.py:477: UserWarning: Coordinate descent with no regularization may lead to unexpected results and is discouraged.\n",
      "  positive)\n",
      "/miniconda/lib/python3.6/site-packages/sklearn/linear_model/coordinate_descent.py:491: ConvergenceWarning: Objective did not converge. You might want to increase the number of iterations. Fitting data with very small alpha may cause precision problems.\n",
      "  ConvergenceWarning)\n",
      "/miniconda/lib/python3.6/site-packages/sklearn/linear_model/coordinate_descent.py:491: ConvergenceWarning: Objective did not converge. You might want to increase the number of iterations. Fitting data with very small alpha may cause precision problems.\n",
      "  ConvergenceWarning)\n",
      "/miniconda/lib/python3.6/site-packages/sklearn/linear_model/coordinate_descent.py:491: ConvergenceWarning: Objective did not converge. You might want to increase the number of iterations. Fitting data with very small alpha may cause precision problems.\n",
      "  ConvergenceWarning)\n",
      "/miniconda/lib/python3.6/site-packages/sklearn/linear_model/coordinate_descent.py:491: ConvergenceWarning: Objective did not converge. You might want to increase the number of iterations. Fitting data with very small alpha may cause precision problems.\n",
      "  ConvergenceWarning)\n",
      "/miniconda/lib/python3.6/site-packages/sklearn/linear_model/coordinate_descent.py:491: ConvergenceWarning: Objective did not converge. You might want to increase the number of iterations. Fitting data with very small alpha may cause precision problems.\n",
      "  ConvergenceWarning)\n",
      "/miniconda/lib/python3.6/site-packages/sklearn/pipeline.py:259: UserWarning: With alpha=0, this algorithm does not converge well. You are advised to use the LinearRegression estimator\n",
      "  self._final_estimator.fit(Xt, y, **fit_params)\n",
      "/miniconda/lib/python3.6/site-packages/sklearn/linear_model/coordinate_descent.py:491: ConvergenceWarning: Objective did not converge. You might want to increase the number of iterations. Fitting data with very small alpha may cause precision problems.\n",
      "  ConvergenceWarning)\n",
      "/miniconda/lib/python3.6/site-packages/sklearn/linear_model/coordinate_descent.py:491: ConvergenceWarning: Objective did not converge. You might want to increase the number of iterations. Fitting data with very small alpha may cause precision problems.\n",
      "  ConvergenceWarning)\n",
      "/miniconda/lib/python3.6/site-packages/sklearn/linear_model/coordinate_descent.py:491: ConvergenceWarning: Objective did not converge. You might want to increase the number of iterations. Fitting data with very small alpha may cause precision problems.\n",
      "  ConvergenceWarning)\n",
      "/miniconda/lib/python3.6/site-packages/sklearn/linear_model/coordinate_descent.py:477: UserWarning: Coordinate descent with no regularization may lead to unexpected results and is discouraged.\n",
      "  positive)\n",
      "/miniconda/lib/python3.6/site-packages/sklearn/linear_model/coordinate_descent.py:491: ConvergenceWarning: Objective did not converge. You might want to increase the number of iterations. Fitting data with very small alpha may cause precision problems.\n",
      "  ConvergenceWarning)\n",
      "/miniconda/lib/python3.6/site-packages/sklearn/pipeline.py:259: UserWarning: With alpha=0, this algorithm does not converge well. You are advised to use the LinearRegression estimator\n",
      "  self._final_estimator.fit(Xt, y, **fit_params)\n",
      "/miniconda/lib/python3.6/site-packages/sklearn/pipeline.py:259: UserWarning: With alpha=0, this algorithm does not converge well. You are advised to use the LinearRegression estimator\n",
      "  self._final_estimator.fit(Xt, y, **fit_params)\n",
      "/miniconda/lib/python3.6/site-packages/sklearn/linear_model/coordinate_descent.py:477: UserWarning: Coordinate descent with no regularization may lead to unexpected results and is discouraged.\n",
      "  positive)\n",
      "/miniconda/lib/python3.6/site-packages/sklearn/linear_model/coordinate_descent.py:477: UserWarning: Coordinate descent with no regularization may lead to unexpected results and is discouraged.\n",
      "  positive)\n",
      "/miniconda/lib/python3.6/site-packages/sklearn/linear_model/coordinate_descent.py:491: ConvergenceWarning: Objective did not converge. You might want to increase the number of iterations. Fitting data with very small alpha may cause precision problems.\n",
      "  ConvergenceWarning)\n",
      "/miniconda/lib/python3.6/site-packages/sklearn/linear_model/coordinate_descent.py:491: ConvergenceWarning: Objective did not converge. You might want to increase the number of iterations. Fitting data with very small alpha may cause precision problems.\n",
      "  ConvergenceWarning)\n"
     ]
    },
    {
     "name": "stderr",
     "output_type": "stream",
     "text": [
      "/miniconda/lib/python3.6/site-packages/sklearn/linear_model/coordinate_descent.py:491: ConvergenceWarning: Objective did not converge. You might want to increase the number of iterations. Fitting data with very small alpha may cause precision problems.\n",
      "  ConvergenceWarning)\n",
      "/miniconda/lib/python3.6/site-packages/sklearn/linear_model/coordinate_descent.py:491: ConvergenceWarning: Objective did not converge. You might want to increase the number of iterations. Fitting data with very small alpha may cause precision problems.\n",
      "  ConvergenceWarning)\n",
      "/miniconda/lib/python3.6/site-packages/sklearn/linear_model/coordinate_descent.py:491: ConvergenceWarning: Objective did not converge. You might want to increase the number of iterations. Fitting data with very small alpha may cause precision problems.\n",
      "  ConvergenceWarning)\n",
      "/miniconda/lib/python3.6/site-packages/sklearn/linear_model/coordinate_descent.py:491: ConvergenceWarning: Objective did not converge. You might want to increase the number of iterations. Fitting data with very small alpha may cause precision problems.\n",
      "  ConvergenceWarning)\n",
      "/miniconda/lib/python3.6/site-packages/sklearn/pipeline.py:259: UserWarning: With alpha=0, this algorithm does not converge well. You are advised to use the LinearRegression estimator\n",
      "  self._final_estimator.fit(Xt, y, **fit_params)\n",
      "/miniconda/lib/python3.6/site-packages/sklearn/linear_model/coordinate_descent.py:491: ConvergenceWarning: Objective did not converge. You might want to increase the number of iterations. Fitting data with very small alpha may cause precision problems.\n",
      "  ConvergenceWarning)\n",
      "/miniconda/lib/python3.6/site-packages/sklearn/linear_model/coordinate_descent.py:491: ConvergenceWarning: Objective did not converge. You might want to increase the number of iterations. Fitting data with very small alpha may cause precision problems.\n",
      "  ConvergenceWarning)\n",
      "/miniconda/lib/python3.6/site-packages/sklearn/linear_model/coordinate_descent.py:477: UserWarning: Coordinate descent with no regularization may lead to unexpected results and is discouraged.\n",
      "  positive)\n",
      "/miniconda/lib/python3.6/site-packages/sklearn/linear_model/coordinate_descent.py:491: ConvergenceWarning: Objective did not converge. You might want to increase the number of iterations. Fitting data with very small alpha may cause precision problems.\n",
      "  ConvergenceWarning)\n",
      "/miniconda/lib/python3.6/site-packages/sklearn/pipeline.py:259: UserWarning: With alpha=0, this algorithm does not converge well. You are advised to use the LinearRegression estimator\n",
      "  self._final_estimator.fit(Xt, y, **fit_params)\n",
      "/miniconda/lib/python3.6/site-packages/sklearn/linear_model/coordinate_descent.py:477: UserWarning: Coordinate descent with no regularization may lead to unexpected results and is discouraged.\n",
      "  positive)\n",
      "/miniconda/lib/python3.6/site-packages/sklearn/linear_model/coordinate_descent.py:491: ConvergenceWarning: Objective did not converge. You might want to increase the number of iterations. Fitting data with very small alpha may cause precision problems.\n",
      "  ConvergenceWarning)\n",
      "/miniconda/lib/python3.6/site-packages/sklearn/linear_model/coordinate_descent.py:491: ConvergenceWarning: Objective did not converge. You might want to increase the number of iterations. Fitting data with very small alpha may cause precision problems.\n",
      "  ConvergenceWarning)\n",
      "/miniconda/lib/python3.6/site-packages/sklearn/pipeline.py:259: UserWarning: With alpha=0, this algorithm does not converge well. You are advised to use the LinearRegression estimator\n",
      "  self._final_estimator.fit(Xt, y, **fit_params)\n",
      "/miniconda/lib/python3.6/site-packages/sklearn/linear_model/coordinate_descent.py:477: UserWarning: Coordinate descent with no regularization may lead to unexpected results and is discouraged.\n",
      "  positive)\n",
      "/miniconda/lib/python3.6/site-packages/sklearn/linear_model/coordinate_descent.py:491: ConvergenceWarning: Objective did not converge. You might want to increase the number of iterations. Fitting data with very small alpha may cause precision problems.\n",
      "  ConvergenceWarning)\n",
      "/miniconda/lib/python3.6/site-packages/sklearn/linear_model/coordinate_descent.py:491: ConvergenceWarning: Objective did not converge. You might want to increase the number of iterations. Fitting data with very small alpha may cause precision problems.\n",
      "  ConvergenceWarning)\n",
      "/miniconda/lib/python3.6/site-packages/sklearn/linear_model/coordinate_descent.py:491: ConvergenceWarning: Objective did not converge. You might want to increase the number of iterations. Fitting data with very small alpha may cause precision problems.\n",
      "  ConvergenceWarning)\n",
      "/miniconda/lib/python3.6/site-packages/sklearn/linear_model/coordinate_descent.py:491: ConvergenceWarning: Objective did not converge. You might want to increase the number of iterations. Fitting data with very small alpha may cause precision problems.\n",
      "  ConvergenceWarning)\n",
      "/miniconda/lib/python3.6/site-packages/sklearn/linear_model/coordinate_descent.py:491: ConvergenceWarning: Objective did not converge. You might want to increase the number of iterations. Fitting data with very small alpha may cause precision problems.\n",
      "  ConvergenceWarning)\n",
      "/miniconda/lib/python3.6/site-packages/sklearn/pipeline.py:259: UserWarning: With alpha=0, this algorithm does not converge well. You are advised to use the LinearRegression estimator\n",
      "  self._final_estimator.fit(Xt, y, **fit_params)\n",
      "/miniconda/lib/python3.6/site-packages/sklearn/pipeline.py:259: UserWarning: With alpha=0, this algorithm does not converge well. You are advised to use the LinearRegression estimator\n",
      "  self._final_estimator.fit(Xt, y, **fit_params)\n",
      "/miniconda/lib/python3.6/site-packages/sklearn/linear_model/coordinate_descent.py:491: ConvergenceWarning: Objective did not converge. You might want to increase the number of iterations. Fitting data with very small alpha may cause precision problems.\n",
      "  ConvergenceWarning)\n",
      "/miniconda/lib/python3.6/site-packages/sklearn/linear_model/coordinate_descent.py:491: ConvergenceWarning: Objective did not converge. You might want to increase the number of iterations. Fitting data with very small alpha may cause precision problems.\n",
      "  ConvergenceWarning)\n",
      "/miniconda/lib/python3.6/site-packages/sklearn/linear_model/coordinate_descent.py:491: ConvergenceWarning: Objective did not converge. You might want to increase the number of iterations. Fitting data with very small alpha may cause precision problems.\n",
      "  ConvergenceWarning)\n",
      "/miniconda/lib/python3.6/site-packages/sklearn/linear_model/coordinate_descent.py:477: UserWarning: Coordinate descent with no regularization may lead to unexpected results and is discouraged.\n",
      "  positive)\n",
      "/miniconda/lib/python3.6/site-packages/sklearn/linear_model/coordinate_descent.py:477: UserWarning: Coordinate descent with no regularization may lead to unexpected results and is discouraged.\n",
      "  positive)\n",
      "/miniconda/lib/python3.6/site-packages/sklearn/pipeline.py:259: UserWarning: With alpha=0, this algorithm does not converge well. You are advised to use the LinearRegression estimator\n",
      "  self._final_estimator.fit(Xt, y, **fit_params)\n",
      "/miniconda/lib/python3.6/site-packages/sklearn/linear_model/coordinate_descent.py:491: ConvergenceWarning: Objective did not converge. You might want to increase the number of iterations. Fitting data with very small alpha may cause precision problems.\n",
      "  ConvergenceWarning)\n",
      "/miniconda/lib/python3.6/site-packages/sklearn/linear_model/coordinate_descent.py:477: UserWarning: Coordinate descent with no regularization may lead to unexpected results and is discouraged.\n",
      "  positive)\n",
      "/miniconda/lib/python3.6/site-packages/sklearn/linear_model/coordinate_descent.py:491: ConvergenceWarning: Objective did not converge. You might want to increase the number of iterations. Fitting data with very small alpha may cause precision problems.\n",
      "  ConvergenceWarning)\n",
      "/miniconda/lib/python3.6/site-packages/sklearn/linear_model/coordinate_descent.py:491: ConvergenceWarning: Objective did not converge. You might want to increase the number of iterations. Fitting data with very small alpha may cause precision problems.\n",
      "  ConvergenceWarning)\n",
      "/miniconda/lib/python3.6/site-packages/sklearn/linear_model/coordinate_descent.py:491: ConvergenceWarning: Objective did not converge. You might want to increase the number of iterations. Fitting data with very small alpha may cause precision problems.\n",
      "  ConvergenceWarning)\n"
     ]
    },
    {
     "name": "stderr",
     "output_type": "stream",
     "text": [
      "/miniconda/lib/python3.6/site-packages/sklearn/linear_model/coordinate_descent.py:491: ConvergenceWarning: Objective did not converge. You might want to increase the number of iterations. Fitting data with very small alpha may cause precision problems.\n",
      "  ConvergenceWarning)\n",
      "/miniconda/lib/python3.6/site-packages/sklearn/linear_model/coordinate_descent.py:491: ConvergenceWarning: Objective did not converge. You might want to increase the number of iterations. Fitting data with very small alpha may cause precision problems.\n",
      "  ConvergenceWarning)\n",
      "/miniconda/lib/python3.6/site-packages/sklearn/linear_model/coordinate_descent.py:491: ConvergenceWarning: Objective did not converge. You might want to increase the number of iterations. Fitting data with very small alpha may cause precision problems.\n",
      "  ConvergenceWarning)\n",
      "/miniconda/lib/python3.6/site-packages/sklearn/pipeline.py:259: UserWarning: With alpha=0, this algorithm does not converge well. You are advised to use the LinearRegression estimator\n",
      "  self._final_estimator.fit(Xt, y, **fit_params)\n",
      "/miniconda/lib/python3.6/site-packages/sklearn/linear_model/coordinate_descent.py:477: UserWarning: Coordinate descent with no regularization may lead to unexpected results and is discouraged.\n",
      "  positive)\n",
      "/miniconda/lib/python3.6/site-packages/sklearn/linear_model/coordinate_descent.py:491: ConvergenceWarning: Objective did not converge. You might want to increase the number of iterations. Fitting data with very small alpha may cause precision problems.\n",
      "  ConvergenceWarning)\n",
      "/miniconda/lib/python3.6/site-packages/sklearn/linear_model/coordinate_descent.py:491: ConvergenceWarning: Objective did not converge. You might want to increase the number of iterations. Fitting data with very small alpha may cause precision problems.\n",
      "  ConvergenceWarning)\n",
      "/miniconda/lib/python3.6/site-packages/sklearn/linear_model/coordinate_descent.py:491: ConvergenceWarning: Objective did not converge. You might want to increase the number of iterations. Fitting data with very small alpha may cause precision problems.\n",
      "  ConvergenceWarning)\n",
      "/miniconda/lib/python3.6/site-packages/sklearn/linear_model/coordinate_descent.py:491: ConvergenceWarning: Objective did not converge. You might want to increase the number of iterations. Fitting data with very small alpha may cause precision problems.\n",
      "  ConvergenceWarning)\n",
      "/miniconda/lib/python3.6/site-packages/sklearn/linear_model/coordinate_descent.py:491: ConvergenceWarning: Objective did not converge. You might want to increase the number of iterations. Fitting data with very small alpha may cause precision problems.\n",
      "  ConvergenceWarning)\n",
      "/miniconda/lib/python3.6/site-packages/sklearn/pipeline.py:259: UserWarning: With alpha=0, this algorithm does not converge well. You are advised to use the LinearRegression estimator\n",
      "  self._final_estimator.fit(Xt, y, **fit_params)\n",
      "/miniconda/lib/python3.6/site-packages/sklearn/linear_model/coordinate_descent.py:477: UserWarning: Coordinate descent with no regularization may lead to unexpected results and is discouraged.\n",
      "  positive)\n",
      "/miniconda/lib/python3.6/site-packages/sklearn/linear_model/coordinate_descent.py:491: ConvergenceWarning: Objective did not converge. You might want to increase the number of iterations. Fitting data with very small alpha may cause precision problems.\n",
      "  ConvergenceWarning)\n",
      "/miniconda/lib/python3.6/site-packages/sklearn/linear_model/coordinate_descent.py:491: ConvergenceWarning: Objective did not converge. You might want to increase the number of iterations. Fitting data with very small alpha may cause precision problems.\n",
      "  ConvergenceWarning)\n",
      "/miniconda/lib/python3.6/site-packages/sklearn/linear_model/coordinate_descent.py:491: ConvergenceWarning: Objective did not converge. You might want to increase the number of iterations. Fitting data with very small alpha may cause precision problems.\n",
      "  ConvergenceWarning)\n",
      "/miniconda/lib/python3.6/site-packages/sklearn/linear_model/coordinate_descent.py:491: ConvergenceWarning: Objective did not converge. You might want to increase the number of iterations. Fitting data with very small alpha may cause precision problems.\n",
      "  ConvergenceWarning)\n",
      "/miniconda/lib/python3.6/site-packages/sklearn/linear_model/coordinate_descent.py:491: ConvergenceWarning: Objective did not converge. You might want to increase the number of iterations. Fitting data with very small alpha may cause precision problems.\n",
      "  ConvergenceWarning)\n",
      "/miniconda/lib/python3.6/site-packages/sklearn/linear_model/coordinate_descent.py:491: ConvergenceWarning: Objective did not converge. You might want to increase the number of iterations. Fitting data with very small alpha may cause precision problems.\n",
      "  ConvergenceWarning)\n",
      "/miniconda/lib/python3.6/site-packages/sklearn/linear_model/coordinate_descent.py:491: ConvergenceWarning: Objective did not converge. You might want to increase the number of iterations. Fitting data with very small alpha may cause precision problems.\n",
      "  ConvergenceWarning)\n",
      "/miniconda/lib/python3.6/site-packages/sklearn/linear_model/coordinate_descent.py:491: ConvergenceWarning: Objective did not converge. You might want to increase the number of iterations. Fitting data with very small alpha may cause precision problems.\n",
      "  ConvergenceWarning)\n",
      "/miniconda/lib/python3.6/site-packages/sklearn/linear_model/coordinate_descent.py:491: ConvergenceWarning: Objective did not converge. You might want to increase the number of iterations. Fitting data with very small alpha may cause precision problems.\n",
      "  ConvergenceWarning)\n",
      "/miniconda/lib/python3.6/site-packages/sklearn/linear_model/coordinate_descent.py:491: ConvergenceWarning: Objective did not converge. You might want to increase the number of iterations. Fitting data with very small alpha may cause precision problems.\n",
      "  ConvergenceWarning)\n",
      "/miniconda/lib/python3.6/site-packages/sklearn/linear_model/coordinate_descent.py:491: ConvergenceWarning: Objective did not converge. You might want to increase the number of iterations. Fitting data with very small alpha may cause precision problems.\n",
      "  ConvergenceWarning)\n",
      "/miniconda/lib/python3.6/site-packages/sklearn/linear_model/coordinate_descent.py:491: ConvergenceWarning: Objective did not converge. You might want to increase the number of iterations. Fitting data with very small alpha may cause precision problems.\n",
      "  ConvergenceWarning)\n",
      "/miniconda/lib/python3.6/site-packages/sklearn/linear_model/coordinate_descent.py:491: ConvergenceWarning: Objective did not converge. You might want to increase the number of iterations. Fitting data with very small alpha may cause precision problems.\n",
      "  ConvergenceWarning)\n",
      "/miniconda/lib/python3.6/site-packages/sklearn/linear_model/coordinate_descent.py:491: ConvergenceWarning: Objective did not converge. You might want to increase the number of iterations. Fitting data with very small alpha may cause precision problems.\n",
      "  ConvergenceWarning)\n",
      "/miniconda/lib/python3.6/site-packages/sklearn/linear_model/coordinate_descent.py:491: ConvergenceWarning: Objective did not converge. You might want to increase the number of iterations. Fitting data with very small alpha may cause precision problems.\n",
      "  ConvergenceWarning)\n",
      "/miniconda/lib/python3.6/site-packages/sklearn/linear_model/coordinate_descent.py:491: ConvergenceWarning: Objective did not converge. You might want to increase the number of iterations. Fitting data with very small alpha may cause precision problems.\n",
      "  ConvergenceWarning)\n",
      "/miniconda/lib/python3.6/site-packages/sklearn/linear_model/coordinate_descent.py:491: ConvergenceWarning: Objective did not converge. You might want to increase the number of iterations. Fitting data with very small alpha may cause precision problems.\n",
      "  ConvergenceWarning)\n",
      "/miniconda/lib/python3.6/site-packages/sklearn/linear_model/coordinate_descent.py:491: ConvergenceWarning: Objective did not converge. You might want to increase the number of iterations. Fitting data with very small alpha may cause precision problems.\n",
      "  ConvergenceWarning)\n",
      "/miniconda/lib/python3.6/site-packages/sklearn/linear_model/coordinate_descent.py:491: ConvergenceWarning: Objective did not converge. You might want to increase the number of iterations. Fitting data with very small alpha may cause precision problems.\n",
      "  ConvergenceWarning)\n"
     ]
    },
    {
     "name": "stderr",
     "output_type": "stream",
     "text": [
      "/miniconda/lib/python3.6/site-packages/sklearn/linear_model/coordinate_descent.py:491: ConvergenceWarning: Objective did not converge. You might want to increase the number of iterations. Fitting data with very small alpha may cause precision problems.\n",
      "  ConvergenceWarning)\n",
      "/miniconda/lib/python3.6/site-packages/sklearn/linear_model/coordinate_descent.py:491: ConvergenceWarning: Objective did not converge. You might want to increase the number of iterations. Fitting data with very small alpha may cause precision problems.\n",
      "  ConvergenceWarning)\n",
      "/miniconda/lib/python3.6/site-packages/sklearn/linear_model/coordinate_descent.py:491: ConvergenceWarning: Objective did not converge. You might want to increase the number of iterations. Fitting data with very small alpha may cause precision problems.\n",
      "  ConvergenceWarning)\n",
      "/miniconda/lib/python3.6/site-packages/sklearn/linear_model/coordinate_descent.py:491: ConvergenceWarning: Objective did not converge. You might want to increase the number of iterations. Fitting data with very small alpha may cause precision problems.\n",
      "  ConvergenceWarning)\n",
      "/miniconda/lib/python3.6/site-packages/sklearn/linear_model/coordinate_descent.py:491: ConvergenceWarning: Objective did not converge. You might want to increase the number of iterations. Fitting data with very small alpha may cause precision problems.\n",
      "  ConvergenceWarning)\n",
      "/miniconda/lib/python3.6/site-packages/sklearn/linear_model/coordinate_descent.py:491: ConvergenceWarning: Objective did not converge. You might want to increase the number of iterations. Fitting data with very small alpha may cause precision problems.\n",
      "  ConvergenceWarning)\n",
      "/miniconda/lib/python3.6/site-packages/sklearn/linear_model/coordinate_descent.py:491: ConvergenceWarning: Objective did not converge. You might want to increase the number of iterations. Fitting data with very small alpha may cause precision problems.\n",
      "  ConvergenceWarning)\n",
      "/miniconda/lib/python3.6/site-packages/sklearn/linear_model/coordinate_descent.py:491: ConvergenceWarning: Objective did not converge. You might want to increase the number of iterations. Fitting data with very small alpha may cause precision problems.\n",
      "  ConvergenceWarning)\n",
      "/miniconda/lib/python3.6/site-packages/sklearn/linear_model/coordinate_descent.py:491: ConvergenceWarning: Objective did not converge. You might want to increase the number of iterations. Fitting data with very small alpha may cause precision problems.\n",
      "  ConvergenceWarning)\n",
      "/miniconda/lib/python3.6/site-packages/sklearn/linear_model/coordinate_descent.py:491: ConvergenceWarning: Objective did not converge. You might want to increase the number of iterations. Fitting data with very small alpha may cause precision problems.\n",
      "  ConvergenceWarning)\n",
      "/miniconda/lib/python3.6/site-packages/sklearn/linear_model/coordinate_descent.py:491: ConvergenceWarning: Objective did not converge. You might want to increase the number of iterations. Fitting data with very small alpha may cause precision problems.\n",
      "  ConvergenceWarning)\n",
      "/miniconda/lib/python3.6/site-packages/sklearn/linear_model/coordinate_descent.py:491: ConvergenceWarning: Objective did not converge. You might want to increase the number of iterations. Fitting data with very small alpha may cause precision problems.\n",
      "  ConvergenceWarning)\n",
      "/miniconda/lib/python3.6/site-packages/sklearn/linear_model/coordinate_descent.py:491: ConvergenceWarning: Objective did not converge. You might want to increase the number of iterations. Fitting data with very small alpha may cause precision problems.\n",
      "  ConvergenceWarning)\n",
      "/miniconda/lib/python3.6/site-packages/sklearn/linear_model/coordinate_descent.py:491: ConvergenceWarning: Objective did not converge. You might want to increase the number of iterations. Fitting data with very small alpha may cause precision problems.\n",
      "  ConvergenceWarning)\n",
      "/miniconda/lib/python3.6/site-packages/sklearn/linear_model/coordinate_descent.py:491: ConvergenceWarning: Objective did not converge. You might want to increase the number of iterations. Fitting data with very small alpha may cause precision problems.\n",
      "  ConvergenceWarning)\n",
      "/miniconda/lib/python3.6/site-packages/sklearn/linear_model/coordinate_descent.py:491: ConvergenceWarning: Objective did not converge. You might want to increase the number of iterations. Fitting data with very small alpha may cause precision problems.\n",
      "  ConvergenceWarning)\n",
      "/miniconda/lib/python3.6/site-packages/sklearn/linear_model/coordinate_descent.py:491: ConvergenceWarning: Objective did not converge. You might want to increase the number of iterations. Fitting data with very small alpha may cause precision problems.\n",
      "  ConvergenceWarning)\n",
      "/miniconda/lib/python3.6/site-packages/sklearn/linear_model/coordinate_descent.py:491: ConvergenceWarning: Objective did not converge. You might want to increase the number of iterations. Fitting data with very small alpha may cause precision problems.\n",
      "  ConvergenceWarning)\n",
      "/miniconda/lib/python3.6/site-packages/sklearn/linear_model/coordinate_descent.py:491: ConvergenceWarning: Objective did not converge. You might want to increase the number of iterations. Fitting data with very small alpha may cause precision problems.\n",
      "  ConvergenceWarning)\n",
      "/miniconda/lib/python3.6/site-packages/sklearn/linear_model/coordinate_descent.py:491: ConvergenceWarning: Objective did not converge. You might want to increase the number of iterations. Fitting data with very small alpha may cause precision problems.\n",
      "  ConvergenceWarning)\n",
      "/miniconda/lib/python3.6/site-packages/sklearn/linear_model/coordinate_descent.py:491: ConvergenceWarning: Objective did not converge. You might want to increase the number of iterations. Fitting data with very small alpha may cause precision problems.\n",
      "  ConvergenceWarning)\n",
      "/miniconda/lib/python3.6/site-packages/sklearn/linear_model/coordinate_descent.py:491: ConvergenceWarning: Objective did not converge. You might want to increase the number of iterations. Fitting data with very small alpha may cause precision problems.\n",
      "  ConvergenceWarning)\n",
      "/miniconda/lib/python3.6/site-packages/sklearn/linear_model/coordinate_descent.py:491: ConvergenceWarning: Objective did not converge. You might want to increase the number of iterations. Fitting data with very small alpha may cause precision problems.\n",
      "  ConvergenceWarning)\n",
      "/miniconda/lib/python3.6/site-packages/sklearn/linear_model/coordinate_descent.py:491: ConvergenceWarning: Objective did not converge. You might want to increase the number of iterations. Fitting data with very small alpha may cause precision problems.\n",
      "  ConvergenceWarning)\n",
      "/miniconda/lib/python3.6/site-packages/sklearn/linear_model/coordinate_descent.py:491: ConvergenceWarning: Objective did not converge. You might want to increase the number of iterations. Fitting data with very small alpha may cause precision problems.\n",
      "  ConvergenceWarning)\n",
      "/miniconda/lib/python3.6/site-packages/sklearn/linear_model/coordinate_descent.py:491: ConvergenceWarning: Objective did not converge. You might want to increase the number of iterations. Fitting data with very small alpha may cause precision problems.\n",
      "  ConvergenceWarning)\n",
      "/miniconda/lib/python3.6/site-packages/sklearn/linear_model/coordinate_descent.py:491: ConvergenceWarning: Objective did not converge. You might want to increase the number of iterations. Fitting data with very small alpha may cause precision problems.\n",
      "  ConvergenceWarning)\n",
      "/miniconda/lib/python3.6/site-packages/sklearn/linear_model/coordinate_descent.py:491: ConvergenceWarning: Objective did not converge. You might want to increase the number of iterations. Fitting data with very small alpha may cause precision problems.\n",
      "  ConvergenceWarning)\n",
      "/miniconda/lib/python3.6/site-packages/sklearn/linear_model/coordinate_descent.py:491: ConvergenceWarning: Objective did not converge. You might want to increase the number of iterations. Fitting data with very small alpha may cause precision problems.\n",
      "  ConvergenceWarning)\n",
      "/miniconda/lib/python3.6/site-packages/sklearn/linear_model/coordinate_descent.py:491: ConvergenceWarning: Objective did not converge. You might want to increase the number of iterations. Fitting data with very small alpha may cause precision problems.\n",
      "  ConvergenceWarning)\n"
     ]
    },
    {
     "name": "stderr",
     "output_type": "stream",
     "text": [
      "/miniconda/lib/python3.6/site-packages/sklearn/linear_model/coordinate_descent.py:491: ConvergenceWarning: Objective did not converge. You might want to increase the number of iterations. Fitting data with very small alpha may cause precision problems.\n",
      "  ConvergenceWarning)\n"
     ]
    },
    {
     "name": "stdout",
     "output_type": "stream",
     "text": [
      "best params {'clf__alpha': 0.01, 'clf__l1_ratio': 0, 'clf__tol': 1e-05}\n",
      "score: 0.7226320948311141 +/- 0.00786717013877319\n",
      "score: 0.7148818137006631 +/- 0.032824525674024836\n"
     ]
    },
    {
     "name": "stderr",
     "output_type": "stream",
     "text": [
      "[Parallel(n_jobs=20)]: Done 700 out of 700 | elapsed:    0.9s finished\n",
      "/miniconda/lib/python3.6/site-packages/sklearn/linear_model/coordinate_descent.py:491: ConvergenceWarning: Objective did not converge. You might want to increase the number of iterations. Fitting data with very small alpha may cause precision problems.\n",
      "  ConvergenceWarning)\n"
     ]
    }
   ],
   "source": [
    "pipe = Pipeline([\n",
    "        ('scale', StandardScaler()),\n",
    "        ('clf', ElasticNet( alpha=0.01, \n",
    "                            l1_ratio=0.5, max_iter=1000\n",
    "                                            )   )])\n",
    "\n",
    "param_grid = dict(clf__alpha=[ 0, 0.001 , 0.01 , 0.1 , 1 , 10 , 100 ],\n",
    "                  clf__l1_ratio=[ 0, 0.25, 0.5, 0.75, 1  ],\n",
    "                  clf__tol=[  0.00001 ,0.0001, 0.001, 0.01   ],\n",
    "                  \n",
    "                 )\n",
    "\n",
    "estimator = GridSearchCV(pipe, param_grid=param_grid, cv=5, n_jobs=20, verbose=1, scoring= scorer, return_train_score=True )  #This is for GridSearchCV\n",
    "\n",
    "estimator.fit(X_b_train[:, chosen_features_indices ], Y_b_train[:,0])\n",
    "\n",
    "\n",
    "print(  'best params', estimator.cv_results_['params'][estimator.best_index_]  )\n",
    "\n",
    "print( 'score:',  estimator.cv_results_['mean_train_score'][estimator.best_index_], '+/-', estimator.cv_results_['std_train_score'][estimator.best_index_] )\n",
    "\n",
    "print( 'score:',  estimator.cv_results_['mean_test_score'][estimator.best_index_], '+/-', estimator.cv_results_['std_test_score'][estimator.best_index_] )\n",
    "\n",
    "estimator_EN=estimator"
   ]
  },
  {
   "cell_type": "markdown",
   "metadata": {},
   "source": [
    "#### determine threshold for classification (on the held out test set)"
   ]
  },
  {
   "cell_type": "code",
   "execution_count": 34,
   "metadata": {},
   "outputs": [],
   "source": [
    "#some helper functions:\n",
    "def utility(gold_cls, pred_cls, p=0.33): return ( true_negative_rate(gold_cls, pred_cls)**(1-p)*recall_score(gold_cls, pred_cls)**p )  #AD: Calculate mean biased towards recall score.\n",
    "def true_negative_rate(gold_cls, pred_cls): return confusion_matrix(gold_cls, pred_cls)[0,0]/(confusion_matrix(gold_cls, pred_cls)[0,0]+confusion_matrix(gold_cls, pred_cls)[0,1])\n",
    "def root_relative_square_error(gold, pred): \n",
    "    from sklearn.metrics import mean_squared_error\n",
    "    return (    mean_squared_error( gold  , pred  ) / mean_squared_error( gold  , np.repeat(np.mean(gold), len(gold)  )  )    )**0.5"
   ]
  },
  {
   "cell_type": "code",
   "execution_count": 35,
   "metadata": {},
   "outputs": [
    {
     "name": "stdout",
     "output_type": "stream",
     "text": [
      "optimal threshold is: 2.21 \n",
      "\n",
      "When using optimal threshold, we get following scores:\n",
      "\n",
      "Classification metrics:\n",
      "true pos: 0.90| true neg: 0.98| area under the curve: 0.97| utility: 0.95|\n",
      "Regression metrics:\n",
      "R-pearson: 0.86| R2: 0.73| root relative square: 0.52\n"
     ]
    }
   ],
   "source": [
    "estimator = estimator_SVC\n",
    "\n",
    "predicted_labels=estimator.predict(X_test[:, chosen_features_indices ]  )\n",
    "gold_labels=Y_test[:,0]\n",
    "gold_classification=Y_test[:,1]\n",
    "\n",
    "thresholds = np.linspace(0,4,num=30)\n",
    "utility_of_threshold=[]\n",
    "\n",
    "for t in thresholds:\n",
    "    predicted_classification=(predicted_labels>t).astype(int)  #so if predicted label is larger than t==>than classified as misaligned. \n",
    "    utility_of_threshold.append(  utility(  gold_classification , predicted_classification   ))\n",
    "    \n",
    "optimal_threshold= thresholds[ np.argmax(utility_of_threshold) ]  #use utility score as a measure to determine optimal threshold.  \n",
    "print( 'optimal threshold is: %.2f \\n' % optimal_threshold )\n",
    "\n",
    "predicted_classification=(predicted_labels > optimal_threshold ).astype(int)\n",
    "\n",
    "#Classification metrics:\n",
    "true_pos= recall_score( gold_classification, predicted_classification  )\n",
    "true_neg=true_negative_rate(  gold_classification, predicted_classification )\n",
    "utility_score=utility( gold_classification, predicted_classification )\n",
    "AUC=roc_auc_score( gold_classification , predicted_labels )\n",
    "\n",
    "#Regression metrics:\n",
    "pearsonR=pearsonr( gold_labels, predicted_labels )[0]\n",
    "Rsquare=r2_score(  gold_labels, predicted_labels )\n",
    "rrR=root_relative_square_error( gold_labels, predicted_labels )\n",
    "\n",
    "print( \"When using optimal threshold, we get following scores:\\n\" )\n",
    "\n",
    "print( \"Classification metrics:\" )\n",
    "print( \"true pos: %.2f|\" % true_pos ,  \"true neg: %.2f|\" % true_neg , \"area under the curve: %.2f|\" % AUC , \"utility: %.2f|\" % utility_score)\n",
    "      \n",
    "print( \"Regression metrics:\" )\n",
    "print( \"R-pearson: %.2f|\" %pearsonR, \"R2: %.2f|\" %Rsquare, \"root relative square: %.2f\" %rrR )\n"
   ]
  },
  {
   "cell_type": "code",
   "execution_count": 37,
   "metadata": {},
   "outputs": [
    {
     "data": {
      "text/plain": [
       "Text(2.15, 2.0485632183908047, 'classification threshold = 2.21')"
      ]
     },
     "execution_count": 37,
     "metadata": {},
     "output_type": "execute_result"
    },
    {
     "data": {
      "image/png": "[encoded data removed]",
      "text/plain": [
       "<Figure size 504x504 with 1 Axes>"
      ]
     },
     "metadata": {
      "needs_background": "light"
     },
     "output_type": "display_data"
    }
   ],
   "source": [
    "#plot the predicted versus the real labels:\n",
    "\n",
    "jw=0.10\n",
    "size=7\n",
    "\n",
    "x=gold_labels\n",
    "y=predicted_labels\n",
    "\n",
    "x_jitter = np.minimum(3*jw, np.maximum(-3*jw,   np.random.normal(0.0, jw, X_test.shape[0] )     ))\n",
    "y_jitter = 0\n",
    "\n",
    "plt.rcParams.update({'font.size': 12})\n",
    "\n",
    "fig, ax = plt.subplots(figsize=(size,size))\n",
    "red_green_cm = plt.get_cmap('brg_r') \n",
    "\n",
    "ax.scatter(x+x_jitter, y +y_jitter, s=size*3, c = red_green_cm(0.1 + x*(1/8  ) ), alpha = 0.15)\n",
    "ax.set_xlabel(\"MAD score, Gold Standard (0 = perfect alignment, 1+  = bad alignment)\")\n",
    "ax.set_ylabel(\"MAD score, predicted\")\n",
    "\n",
    "plt.axhline(y= optimal_threshold , color='grey' )\n",
    "\n",
    "\n",
    "plt.text(x = 1.8 + size/20 , y = optimal_threshold - 0.1 - 0.2*size/24 , s='classification threshold = %.2f' %optimal_threshold , fontsize=size+4, color='grey')\n",
    "\n"
   ]
  },
  {
   "cell_type": "markdown",
   "metadata": {},
   "source": [
    "#### Draw the learning curve"
   ]
  },
  {
   "cell_type": "code",
   "execution_count": 38,
   "metadata": {},
   "outputs": [
    {
     "name": "stdout",
     "output_type": "stream",
     "text": [
      "results with 100.00 number of samples:\n",
      "Fitting 5 folds for each of 320 candidates, totalling 1600 fits\n"
     ]
    },
    {
     "name": "stderr",
     "output_type": "stream",
     "text": [
      "[Parallel(n_jobs=20)]: Done  76 tasks      | elapsed:    0.5s\n",
      "[Parallel(n_jobs=20)]: Done 1600 out of 1600 | elapsed:    2.7s finished\n"
     ]
    },
    {
     "name": "stdout",
     "output_type": "stream",
     "text": [
      "fitting done, took 3.76 s\n",
      "best params {'clf__C': 31.622776601683793, 'clf__epsilon': 0.1, 'clf__gamma': 0.013894954943731374}\n",
      "score: 0.7954392695234489 +/- 0.0502222494475409\n",
      "score: 0.6643630048526762 +/- 0.15563976711462724\n",
      "results with 185.00 number of samples:\n",
      "Fitting 5 folds for each of 320 candidates, totalling 1600 fits\n"
     ]
    },
    {
     "name": "stderr",
     "output_type": "stream",
     "text": [
      "[Parallel(n_jobs=20)]: Done  40 tasks      | elapsed:    0.4s\n",
      "[Parallel(n_jobs=20)]: Done 1600 out of 1600 | elapsed:    6.2s finished\n"
     ]
    },
    {
     "name": "stdout",
     "output_type": "stream",
     "text": [
      "fitting done, took 7.33 s\n",
      "best params {'clf__C': 1.0, 'clf__epsilon': 0.1, 'clf__gamma': 0.19306977288832497}\n",
      "score: 0.8484239364962092 +/- 0.015302194909971752\n",
      "score: 0.7625554724420746 +/- 0.08886943470125373\n",
      "results with 270.00 number of samples:\n",
      "Fitting 5 folds for each of 320 candidates, totalling 1600 fits\n"
     ]
    },
    {
     "name": "stderr",
     "output_type": "stream",
     "text": [
      "[Parallel(n_jobs=20)]: Done  17 tasks      | elapsed:    0.2s\n",
      "[Parallel(n_jobs=20)]: Done 1600 out of 1600 | elapsed:   14.8s finished\n"
     ]
    },
    {
     "name": "stdout",
     "output_type": "stream",
     "text": [
      "fitting done, took 15.88 s\n",
      "best params {'clf__C': 1.0, 'clf__epsilon': 0.1, 'clf__gamma': 0.19306977288832497}\n",
      "score: 0.8572508874542987 +/- 0.013531893740110096\n",
      "score: 0.7951989731443221 +/- 0.04549341621865567\n",
      "results with 355.00 number of samples:\n",
      "Fitting 5 folds for each of 320 candidates, totalling 1600 fits\n"
     ]
    },
    {
     "name": "stderr",
     "output_type": "stream",
     "text": [
      "[Parallel(n_jobs=20)]: Done  10 tasks      | elapsed:    0.1s\n",
      "[Parallel(n_jobs=20)]: Done 1600 out of 1600 | elapsed:   27.3s finished\n"
     ]
    },
    {
     "name": "stdout",
     "output_type": "stream",
     "text": [
      "fitting done, took 28.41 s\n",
      "best params {'clf__C': 1.0, 'clf__epsilon': 0.1, 'clf__gamma': 0.19306977288832497}\n",
      "score: 0.849219976907332 +/- 0.0033812723368560537\n",
      "score: 0.798383028087111 +/- 0.03775806334784761\n",
      "results with 440.00 number of samples:\n",
      "Fitting 5 folds for each of 320 candidates, totalling 1600 fits\n"
     ]
    },
    {
     "name": "stderr",
     "output_type": "stream",
     "text": [
      "[Parallel(n_jobs=20)]: Done  10 tasks      | elapsed:    0.1s\n",
      "[Parallel(n_jobs=20)]: Done 1600 out of 1600 | elapsed:   42.8s finished\n"
     ]
    },
    {
     "name": "stdout",
     "output_type": "stream",
     "text": [
      "fitting done, took 43.96 s\n",
      "best params {'clf__C': 1.0, 'clf__epsilon': 0.1, 'clf__gamma': 0.19306977288832497}\n",
      "score: 0.8564601208561579 +/- 0.006609790585768818\n",
      "score: 0.8133557961833654 +/- 0.03923765611118313\n",
      "results with 525.00 number of samples:\n",
      "Fitting 5 folds for each of 320 candidates, totalling 1600 fits\n"
     ]
    },
    {
     "name": "stderr",
     "output_type": "stream",
     "text": [
      "[Parallel(n_jobs=20)]: Done  10 tasks      | elapsed:    0.1s\n",
      "[Parallel(n_jobs=20)]: Done 1600 out of 1600 | elapsed:  1.1min finished\n"
     ]
    },
    {
     "name": "stdout",
     "output_type": "stream",
     "text": [
      "fitting done, took 69.97 s\n",
      "best params {'clf__C': 1.0, 'clf__epsilon': 0.1, 'clf__gamma': 0.19306977288832497}\n",
      "score: 0.8506954753948979 +/- 0.00920378084554979\n",
      "score: 0.8196013949991998 +/- 0.04118191764344131\n",
      "results with 610.00 number of samples:\n",
      "Fitting 5 folds for each of 320 candidates, totalling 1600 fits\n"
     ]
    },
    {
     "name": "stderr",
     "output_type": "stream",
     "text": [
      "[Parallel(n_jobs=20)]: Done  10 tasks      | elapsed:    0.1s\n",
      "[Parallel(n_jobs=20)]: Done 1240 tasks      | elapsed:    6.6s\n",
      "[Parallel(n_jobs=20)]: Done 1600 out of 1600 | elapsed:  1.7min finished\n"
     ]
    },
    {
     "name": "stdout",
     "output_type": "stream",
     "text": [
      "fitting done, took 102.59 s\n",
      "best params {'clf__C': 1.0, 'clf__epsilon': 0.1, 'clf__gamma': 0.19306977288832497}\n",
      "score: 0.8444855309864512 +/- 0.0049840541920961835\n",
      "score: 0.8158022022290731 +/- 0.0229340536344158\n",
      "results with 695.00 number of samples:\n",
      "Fitting 5 folds for each of 320 candidates, totalling 1600 fits\n"
     ]
    },
    {
     "name": "stderr",
     "output_type": "stream",
     "text": [
      "[Parallel(n_jobs=20)]: Done  10 tasks      | elapsed:    0.1s\n",
      "[Parallel(n_jobs=20)]: Done 760 tasks      | elapsed:    2.5s\n",
      "[Parallel(n_jobs=20)]: Done 1521 tasks      | elapsed:  1.2min\n",
      "[Parallel(n_jobs=20)]: Done 1561 out of 1600 | elapsed:  1.3min remaining:    1.9s\n",
      "[Parallel(n_jobs=20)]: Done 1600 out of 1600 | elapsed:  1.9min finished\n"
     ]
    },
    {
     "name": "stdout",
     "output_type": "stream",
     "text": [
      "fitting done, took 112.70 s\n",
      "best params {'clf__C': 1.0, 'clf__epsilon': 0.1, 'clf__gamma': 0.19306977288832497}\n",
      "score: 0.8549605317743605 +/- 0.005487448956044904\n",
      "score: 0.8277447326783454 +/- 0.01873701518984402\n",
      "results with 780.00 number of samples:\n",
      "Fitting 5 folds for each of 320 candidates, totalling 1600 fits\n"
     ]
    },
    {
     "name": "stderr",
     "output_type": "stream",
     "text": [
      "[Parallel(n_jobs=20)]: Done  10 tasks      | elapsed:    0.1s\n",
      "[Parallel(n_jobs=20)]: Done 1000 tasks      | elapsed:    4.8s\n",
      "[Parallel(n_jobs=20)]: Done 1600 out of 1600 | elapsed:  2.5min finished\n"
     ]
    },
    {
     "name": "stdout",
     "output_type": "stream",
     "text": [
      "fitting done, took 153.79 s\n",
      "best params {'clf__C': 1.0, 'clf__epsilon': 0.1, 'clf__gamma': 0.19306977288832497}\n",
      "score: 0.8581080703836633 +/- 0.008177279417953131\n",
      "score: 0.8361083502835 +/- 0.040555684445402355\n",
      "results with 866.00 number of samples:\n",
      "Fitting 5 folds for each of 320 candidates, totalling 1600 fits\n"
     ]
    },
    {
     "name": "stderr",
     "output_type": "stream",
     "text": [
      "[Parallel(n_jobs=20)]: Done  10 tasks      | elapsed:    0.2s\n",
      "[Parallel(n_jobs=20)]: Done 1000 tasks      | elapsed:    5.6s\n",
      "[Parallel(n_jobs=20)]: Done 1561 out of 1600 | elapsed:  2.4min remaining:    3.6s\n",
      "[Parallel(n_jobs=20)]: Done 1600 out of 1600 | elapsed:  2.9min finished\n"
     ]
    },
    {
     "name": "stdout",
     "output_type": "stream",
     "text": [
      "fitting done, took 176.54 s\n",
      "best params {'clf__C': 1.0, 'clf__epsilon': 0.1, 'clf__gamma': 0.19306977288832497}\n",
      "score: 0.8520280706604335 +/- 0.004374616518240196\n",
      "score: 0.8284993005217522 +/- 0.019085354561178283\n"
     ]
    }
   ],
   "source": [
    "import time\n",
    "pipe = Pipeline([\n",
    "        ('scale', StandardScaler()),\n",
    "        ('clf', SVR(kernel = 'rbf'))])\n",
    "\n",
    "param_grid = dict(clf__C=np.logspace( -3,3,5 ),\n",
    "                  clf__gamma=np.logspace(-3, 1, 8),\n",
    "                  clf__epsilon=np.logspace(-6,-1,8)\n",
    "                 )\n",
    "\n",
    "train_mean=[]\n",
    "train_std=[]\n",
    "test_mean=[]\n",
    "test_std=[]\n",
    "\n",
    "train_sizes= np.linspace( 100, X_b_train.shape[0], 10 ).astype(int)\n",
    "\n",
    "for number_of_samples in train_sizes:\n",
    "\n",
    "    estimator = GridSearchCV(pipe, param_grid=param_grid, cv=5, n_jobs=20, verbose=1, scoring= scorer, return_train_score=True )  #This is for GridSearchCV\n",
    "    \n",
    "    print( 'results with %.2f number of samples:' % number_of_samples )\n",
    "    \n",
    "    start=time.time()\n",
    "    estimator.fit(X_b_train[:number_of_samples, chosen_features_indices], Y_b_train[:number_of_samples,0])\n",
    "    end=time.time()\n",
    "    \n",
    "    print( 'fitting done, took %.2f s' %(end-start) )\n",
    "\n",
    "    print(  'best params', estimator.cv_results_['params'][estimator.best_index_]  )\n",
    "\n",
    "    print( 'score:',  estimator.cv_results_['mean_train_score'][estimator.best_index_], '+/-', estimator.cv_results_['std_train_score'][estimator.best_index_] )\n",
    "\n",
    "    print( 'score:',  estimator.cv_results_['mean_test_score'][estimator.best_index_], '+/-', estimator.cv_results_['std_test_score'][estimator.best_index_] )\n",
    "\n",
    "    train_mean.append( estimator.cv_results_['mean_train_score'][estimator.best_index_] )\n",
    "    train_std.append(  estimator.cv_results_['std_train_score'][estimator.best_index_] )\n",
    "    test_mean.append( estimator.cv_results_['mean_test_score'][estimator.best_index_] )\n",
    "    test_std.append(  estimator.cv_results_['std_test_score'][estimator.best_index_] )"
   ]
  },
  {
   "cell_type": "code",
   "execution_count": 39,
   "metadata": {},
   "outputs": [
    {
     "data": {
      "text/plain": [
       "(0.53, 1.0)"
      ]
     },
     "execution_count": 39,
     "metadata": {},
     "output_type": "execute_result"
    },
    {
     "data": {
      "image/png": "[encoded data removed]",
      "text/plain": [
       "<Figure size 720x504 with 1 Axes>"
      ]
     },
     "metadata": {
      "needs_background": "light"
     },
     "output_type": "display_data"
    }
   ],
   "source": [
    "plt.rcParams['figure.figsize'] = 10, 7\n",
    "plt.rcParams.update({'font.size': 17})\n",
    "plt.plot( train_sizes, train_mean, color='blue', marker='o', markersize=5, label='training r2')\n",
    "plt.fill_between(train_sizes, np.array(train_mean) + np.array(train_std), np.array(train_mean) - np.array(train_std), alpha=0.15, color='blue')\n",
    "plt.plot(train_sizes, test_mean, color='green', linestyle='--', marker='s', markersize=5, label='validation r2')\n",
    "plt.fill_between(train_sizes, np.array(test_mean) + np.array(test_std), np.array(test_mean) - np.array(test_std), alpha=0.15, color='green')\n",
    "plt.grid()\n",
    "plt.xlabel( 'Number of training samples' )\n",
    "plt.ylabel( 'r2' )\n",
    "plt.legend( loc='lower right' )\n",
    "plt.ylim([0.53, 1.0])"
   ]
  },
  {
   "cell_type": "markdown",
   "metadata": {},
   "source": [
    "# END"
   ]
  }
 ],
 "metadata": {
  "kernelspec": {
   "display_name": "Python 3",
   "language": "python",
   "name": "python3"
  },
  "language_info": {
   "codemirror_mode": {
    "name": "ipython",
    "version": 3
   },
   "file_extension": ".py",
   "mimetype": "text/x-python",
   "name": "python",
   "nbconvert_exporter": "python",
   "pygments_lexer": "ipython3",
   "version": "3.7.3"
  }
 },
 "nbformat": 4,
 "nbformat_minor": 2
}
